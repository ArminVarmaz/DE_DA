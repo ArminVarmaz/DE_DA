{
  "nbformat": 4,
  "nbformat_minor": 0,
  "metadata": {
    "colab": {
      "provenance": [],
      "authorship_tag": "ABX9TyPjXmJGUnofBArQVawLZmBT",
      "include_colab_link": true
    },
    "kernelspec": {
      "name": "python3",
      "display_name": "Python 3"
    },
    "language_info": {
      "name": "python"
    }
  },
  "cells": [
    {
      "cell_type": "markdown",
      "metadata": {
        "id": "view-in-github",
        "colab_type": "text"
      },
      "source": [
        "<a href=\"https://colab.research.google.com/github/ArminVarmaz/DE_DA/blob/main/Termin_3/Termin_3.ipynb\" target=\"_parent\"><img src=\"https://colab.research.google.com/assets/colab-badge.svg\" alt=\"Open In Colab\"/></a>"
      ]
    },
    {
      "cell_type": "markdown",
      "source": [
        "# 3. Termin\n",
        "\n",
        "**Ziele des 3. Termins**\n",
        "\n",
        "\n",
        "*   Wiederholung und Übungen aus dem 2. Termin\n",
        "*   Einführung in deskriptive Statistiken\n",
        "*   Einführung in t-Test"
      ],
      "metadata": {
        "id": "3604LqRb2K0s"
      }
    },
    {
      "cell_type": "markdown",
      "source": [
        "## Datenimport\n",
        "\n",
        "Wir importieren die gleichen Daten wie in der letzten Einheit:"
      ],
      "metadata": {
        "id": "Qi8pJxMF3MuY"
      }
    },
    {
      "cell_type": "code",
      "execution_count": null,
      "metadata": {
        "id": "WdvWHvhj2CcA"
      },
      "outputs": [],
      "source": [
        "import pandas as pd\n",
        "import numpy as np\n",
        "from scipy import stats as st\n",
        "from scipy.stats import gaussian_kde\n",
        "import matplotlib.pyplot as plt\n",
        "\n",
        "url='https://github.com/ArminVarmaz/DE_DA/blob/main/Termin_2/Data/rwm.xlsx?raw=true'\n",
        "data = pd.read_excel(url, sheet_name='Sheet1')"
      ]
    },
    {
      "cell_type": "markdown",
      "source": [
        "## Deskriptive Statistiken\n",
        "\n",
        "Deskriptive Statistiken geben uns einen ersten Einblick in die Verteilungseigenschaften der Daten. Gewöhnlich schauen wir uns Lage- und Streuungsparamter an.\n",
        "\n",
        "Zu den Lageparameter zählen\n",
        "*   Modus\n",
        "*   Median\n",
        "*   Mittelwert\n",
        "\n",
        "In Abhängigkeit vom Datentyp (qualitativ/quantitativ) können wir die Lageparameter einsetzen:\n"
      ],
      "metadata": {
        "id": "mwcb-FcL3Yui"
      }
    },
    {
      "cell_type": "code",
      "source": [
        "# Calculate mode and median for hsat (overall)\n",
        "hsat_mode = data[\"hsat\"].mode()[0]\n",
        "hsat_median = data[\"hsat\"].median()\n",
        "\n",
        "# Calculate mode and median for hsat (by gender)\n",
        "female_data = data[data[\"female\"] == 1]\n",
        "male_data = data[data[\"female\"] == 0]\n",
        "\n",
        "female_mode = female_data[\"hsat\"].mode()[0]\n",
        "female_median = female_data[\"hsat\"].median()\n",
        "\n",
        "male_mode = male_data[\"hsat\"].mode()[0]\n",
        "male_median = male_data[\"hsat\"].median()\n",
        "\n",
        "# Create a table with the results\n",
        "results = pd.DataFrame({\"All\": [hsat_mode, hsat_median],\n",
        "                        \"Male\": [male_mode, male_median],\n",
        "                        \"Female\": [female_mode, female_median]},\n",
        "                       index=[\"Mode\", \"Median\"])\n",
        "\n",
        "# Print the table\n",
        "print(results)\n"
      ],
      "metadata": {
        "colab": {
          "base_uri": "https://localhost:8080/"
        },
        "id": "7Uo_-UfB3dUF",
        "outputId": "51b9c873-cd3b-4c49-a81c-37b76a714ad0"
      },
      "execution_count": null,
      "outputs": [
        {
          "output_type": "stream",
          "name": "stdout",
          "text": [
            "        All  Male  Female\n",
            "Mode    8.0   8.0     8.0\n",
            "Median  7.0   7.0     7.0\n"
          ]
        }
      ]
    },
    {
      "cell_type": "markdown",
      "source": [
        "Im letzten Beispiel haben wir uns die Zufriedenheit mit der Gesundheit von allen sowie getrennt für Männer und Frauen angeschaut.\n",
        "\n",
        "Im nachfolgenden Beispiel schauen wir uns weitere Lageparamter an:"
      ],
      "metadata": {
        "id": "0Qgcg1g14hge"
      }
    },
    {
      "cell_type": "code",
      "source": [
        "# Calculate quartiles and IQR for hsat (overall)\n",
        "hsat_quartiles = data[\"hsat\"].quantile([0.25, 0.5, 0.75])\n",
        "hsat_q1, hsat_median, hsat_q3 = hsat_quartiles\n",
        "hsat_iqr = hsat_q3 - hsat_q1\n",
        "\n",
        "# Calculate quartiles and IQR for hsat (by gender)\n",
        "female_data = data[data[\"female\"] == 1]\n",
        "male_data = data[data[\"female\"] == 0]\n",
        "\n",
        "female_quartiles = female_data[\"hsat\"].quantile([0.25, 0.5, 0.75])\n",
        "female_q1, female_median, female_q3 = female_quartiles\n",
        "female_iqr = female_q3 - female_q1\n",
        "\n",
        "male_quartiles = male_data[\"hsat\"].quantile([0.25, 0.5, 0.75])\n",
        "male_q1, male_median, male_q3 = male_quartiles\n",
        "male_iqr = male_q3 - male_q1\n",
        "\n",
        "# Create a table with the results\n",
        "results = pd.DataFrame({\"All\": [hsat_q1, hsat_median, hsat_q3, hsat_iqr],\n",
        "                        \"Male\": [male_q1, male_median, male_q3, male_iqr],\n",
        "                        \"Female\": [female_q1, female_median, female_q3, female_iqr]},\n",
        "                       index=[\"Q1\", \"Median\", \"Q3\", \"IQR\"])\n",
        "\n",
        "# Print the table\n",
        "print(results)"
      ],
      "metadata": {
        "colab": {
          "base_uri": "https://localhost:8080/"
        },
        "id": "TQlX00SG40iv",
        "outputId": "a3a45187-87d6-4119-cd04-6379d014c68b"
      },
      "execution_count": null,
      "outputs": [
        {
          "output_type": "stream",
          "name": "stdout",
          "text": [
            "        All  Male  Female\n",
            "Q1      5.0   5.0     5.0\n",
            "Median  7.0   7.0     7.0\n",
            "Q3      8.0   8.0     8.0\n",
            "IQR     3.0   3.0     3.0\n"
          ]
        }
      ]
    },
    {
      "cell_type": "markdown",
      "source": [
        "Für die stetigen Daten können wir ferner den Mittelwert berechnen und sinnvoll interpretieren"
      ],
      "metadata": {
        "id": "xouxeR6p42aj"
      }
    },
    {
      "cell_type": "code",
      "source": [
        "# stetige Daten\n",
        "# Calculate mode, median, and mean for hhninc (overall)\n",
        "hhninc_mode = data[\"hhninc\"].mode()[0]\n",
        "hhninc_median = data[\"hhninc\"].median()\n",
        "hhninc_mean = data[\"hhninc\"].mean()\n",
        "\n",
        "# Calculate mode, median, and mean for hhninc (by gender)\n",
        "female_data = data[data[\"female\"] == 1]\n",
        "male_data = data[data[\"female\"] == 0]\n",
        "\n",
        "female_mode = female_data[\"hhninc\"].mode()[0]\n",
        "female_median = female_data[\"hhninc\"].median()\n",
        "female_mean = female_data[\"hhninc\"].mean()\n",
        "\n",
        "male_mode = male_data[\"hhninc\"].mode()[0]\n",
        "male_median = male_data[\"hhninc\"].median()\n",
        "male_mean = male_data[\"hhninc\"].mean()\n",
        "\n",
        "# Create a table with the results\n",
        "results = pd.DataFrame({\"All\": [hhninc_mode, hhninc_median, hhninc_mean],\n",
        "                        \"Male\": [male_mode, male_median, male_mean],\n",
        "                        \"Female\": [female_mode, female_median, female_mean]},\n",
        "                       index=[\"Mode\", \"Median\", \"Mean\"])\n",
        "\n",
        "# Print the table\n",
        "print(results)"
      ],
      "metadata": {
        "colab": {
          "base_uri": "https://localhost:8080/"
        },
        "id": "BxPXEsnp422K",
        "outputId": "8519accd-7740-4e01-eeed-94fcbf1a6c72"
      },
      "execution_count": null,
      "outputs": [
        {
          "output_type": "stream",
          "name": "stdout",
          "text": [
            "                All         Male       Female\n",
            "Mode    3000.000000  3000.000000  3000.000000\n",
            "Median  3200.000000  3300.000000  3151.000000\n",
            "Mean    3520.836168  3590.540647  3444.951364\n"
          ]
        }
      ]
    },
    {
      "cell_type": "markdown",
      "source": [
        "Zum Schluss können wir alle Statistiken, für alle und getrennt für Frauen und Männer, berechnen und in eine Tabelle zusammenfassen. Das ist häufig die erste Tabelle für wissenschafliche Arbeiten."
      ],
      "metadata": {
        "id": "60Gkgczi47AZ"
      }
    },
    {
      "cell_type": "code",
      "source": [
        "# Bestimme alle Statistiken und pack sie in eine Tabelle\n",
        "\n",
        "# Calculate mode, median, mean, quartiles, min, max, range, IQR, variance, and standard deviation for hhninc (overall)\n",
        "hhninc_mode = data[\"hhninc\"].mode()[0]\n",
        "hhninc_median = data[\"hhninc\"].median()\n",
        "hhninc_mean = data[\"hhninc\"].mean()\n",
        "hhninc_quartiles = data[\"hhninc\"].quantile([0.25, 0.75])\n",
        "hhninc_q1,  hhninc_q3 = hhninc_quartiles\n",
        "hhninc_min = data[\"hhninc\"].min()\n",
        "hhninc_max = data[\"hhninc\"].max()\n",
        "hhninc_range = hhninc_max - hhninc_min\n",
        "hhninc_iqr = hhninc_quartiles[0.75] - hhninc_quartiles[0.25]\n",
        "hhninc_var = data[\"hhninc\"].var()\n",
        "hhninc_std = data[\"hhninc\"].std()\n",
        "hhninc_n = data[\"hhninc\"].count()\n",
        "# Calculate t-statistic and p-value for a one-sample t-test with the null hypothesis that income = 3000\n",
        "t_stat, p_val = st.ttest_1samp(data[\"hhninc\"], 3000)\n",
        "\n",
        "\n",
        "# Calculate mode, median, mean, quartiles, min, max, range, IQR, variance, and standard deviation for hhninc (by gender)\n",
        "female_data = data[data[\"female\"] == 1]\n",
        "male_data = data[data[\"female\"] == 0]\n",
        "\n",
        "female_mode = female_data[\"hhninc\"].mode()[0]\n",
        "female_median = female_data[\"hhninc\"].median()\n",
        "female_mean = female_data[\"hhninc\"].mean()\n",
        "female_quartiles = female_data[\"hhninc\"].quantile([0.25, 0.75])\n",
        "female_q1, female_q3 = female_quartiles\n",
        "female_min = female_data[\"hhninc\"].min()\n",
        "female_max = female_data[\"hhninc\"].max()\n",
        "female_range = female_max - female_min\n",
        "female_iqr = female_quartiles[0.75] - female_quartiles[0.25]\n",
        "female_var = female_data[\"hhninc\"].var()\n",
        "female_std = female_data[\"hhninc\"].std()\n",
        "female_n = female_data[\"hhninc\"].count()\n",
        "# Calculate t-statistic and p-value for a one-sample t-test with the null hypothesis that income = 3000\n",
        "t_stat_female, p_val_female = st.ttest_1samp(female_data[\"hhninc\"], 3000)\n",
        "\n",
        "male_mode = male_data[\"hhninc\"].mode()[0]\n",
        "male_median = male_data[\"hhninc\"].median()\n",
        "male_mean = male_data[\"hhninc\"].mean()\n",
        "male_quartiles = male_data[\"hhninc\"].quantile([0.25, 0.75])\n",
        "male_q1, male_q3 = female_quartiles\n",
        "male_min = male_data[\"hhninc\"].min()\n",
        "male_max = male_data[\"hhninc\"].max()\n",
        "male_range = male_max - male_min\n",
        "male_iqr = male_quartiles[0.75] - male_quartiles[0.25]\n",
        "male_var = male_data[\"hhninc\"].var()\n",
        "male_std = male_data[\"hhninc\"].std()\n",
        "male_n = male_data[\"hhninc\"].count()\n",
        "# Calculate t-statistic and p-value for a one-sample t-test with the null hypothesis that income = 3000\n",
        "t_stat_male, p_val_male= st.ttest_1samp(male_data[\"hhninc\"], 3000)\n",
        "\n",
        "\n",
        "# Create a table with the results\n",
        "\n",
        "results = pd.DataFrame({\"All\": [hhninc_mode, hhninc_median, hhninc_mean, hhninc_q1, hhninc_q3, hhninc_min,\n",
        "                                hhninc_max, hhninc_range, hhninc_iqr, hhninc_var, hhninc_std, hhninc_n, t_stat, p_val],\n",
        "                        \"Male\": [male_mode, male_median, male_mean, male_q1, male_q3, male_min, male_max, male_range,\n",
        "                                 male_iqr, male_var, male_std, male_n, t_stat_male, p_val_male],\n",
        "                        \"Female\": [female_mode, female_median, female_mean, female_q1, female_q3, female_min,\n",
        "                                   female_max, female_range, female_iqr, female_var, female_std, female_n, t_stat_female,\n",
        "                                   p_val_female]},\n",
        "                       index=[\"Mode\", \"Median\", \"Mean\", \"Q1\", \"Q3\", \"Min\", \"Max\", \"Range\", \"IQR\", \"Var\", \"Std\", \"N\",\n",
        "                              \"t-Stat\", \"p-Value\"])\n",
        "# print results\n",
        "print(results.to_string(float_format=\"%.2f\"))\n"
      ],
      "metadata": {
        "colab": {
          "base_uri": "https://localhost:8080/"
        },
        "id": "CUQa5wF_47RT",
        "outputId": "aedc68db-4148-4085-e2b1-1bdd5a1c237d"
      },
      "execution_count": null,
      "outputs": [
        {
          "output_type": "stream",
          "name": "stdout",
          "text": [
            "               All       Male     Female\n",
            "Mode       3000.00    3000.00    3000.00\n",
            "Median     3200.00    3300.00    3151.00\n",
            "Mean       3520.84    3590.54    3444.95\n",
            "Q1         2400.00    2250.00    2250.00\n",
            "Q3         4300.00    4200.00    4200.00\n",
            "Min           0.00       0.00       0.00\n",
            "Max       30671.00   30000.00   30671.00\n",
            "Range     30671.00   30000.00   30671.00\n",
            "IQR        1900.00    1900.00    1950.00\n",
            "Var     3129653.06 3012443.58 3246446.05\n",
            "Std        1769.08    1735.64    1801.79\n",
            "N         27326.00   14243.00   13083.00\n",
            "t-Stat       48.67      40.61      28.25\n",
            "p-Value       0.00       0.00       0.00\n"
          ]
        }
      ]
    },
    {
      "cell_type": "markdown",
      "source": [
        "Neben den Paramtern von Verteilungen können wir uns natürlich die gesamte Verteilung der Daten anschauen. Hier sind beispielhaft die empirische CDF und die geschätzte CDF (Kerndichteschätzung, Achtung: das ist breits Maschinelles Lernen!!)."
      ],
      "metadata": {
        "id": "nrbZcc2P5E2y"
      }
    },
    {
      "cell_type": "code",
      "source": [
        "# ECDF\n",
        "# Extract the values of hhninc\n",
        "hhninc_values = data[\"hhninc\"].values\n",
        "\n",
        "# Sort the values of hhninc\n",
        "x = np.sort(hhninc_values)\n",
        "\n",
        "# Compute the empirical cumulative distribution function (ECDF)\n",
        "y = np.arange(1, len(x)+1) / len(x)\n",
        "\n",
        "# Estimate the kernel density function (KDE)\n",
        "kde = gaussian_kde(hhninc_values)\n",
        "\n",
        "# Create a range of values for the density plot\n",
        "x_range = np.linspace(hhninc_values.min(), hhninc_values.max(), 1000)\n",
        "\n",
        "# Calculate the probability density function (PDF) values for the range\n",
        "pdf_values = kde(x_range)\n",
        "\n",
        "# Integrate the PDF to get the cumulative distribution function (CDF)\n",
        "cdf_values = np.cumsum(pdf_values) / np.sum(pdf_values)\n",
        "\n",
        "# Plot the ECDF and density curve\n",
        "fig, ax = plt.subplots()\n",
        "ax.plot(x, y, marker='.', linestyle='none', label=\"ECDF\")\n",
        "ax.plot(x_range, cdf_values, label=\"Kernel Density\")\n",
        "ax.legend()\n",
        "ax.set_xlabel(\"Household Income\")\n",
        "ax.set_ylabel(\"Cumulative Probability\")\n",
        "plt.show()"
      ],
      "metadata": {
        "colab": {
          "base_uri": "https://localhost:8080/",
          "height": 300
        },
        "id": "kAwBSY5D5ERP",
        "outputId": "8dbd8cc6-2c36-43a8-ce93-5435b124ad0c"
      },
      "execution_count": null,
      "outputs": [
        {
          "output_type": "display_data",
          "data": {
            "text/plain": [
              "<Figure size 432x288 with 1 Axes>"
            ],
            "image/png": "[encoded data removed]"
          },
          "metadata": {
            "needs_background": "light"
          }
        }
      ]
    },
    {
      "cell_type": "markdown",
      "source": [],
      "metadata": {
        "id": "jFjqPYW65Efk"
      }
    }
  ]
}