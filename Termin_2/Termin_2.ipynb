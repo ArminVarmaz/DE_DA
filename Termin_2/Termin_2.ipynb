{
  "nbformat": 4,
  "nbformat_minor": 0,
  "metadata": {
    "colab": {
      "provenance": [],
      "authorship_tag": "ABX9TyNeLBALHGeOgK0tDMcjA8H1",
      "include_colab_link": true
    },
    "kernelspec": {
      "name": "python3",
      "display_name": "Python 3"
    },
    "language_info": {
      "name": "python"
    }
  },
  "cells": [
    {
      "cell_type": "markdown",
      "metadata": {
        "id": "view-in-github",
        "colab_type": "text"
      },
      "source": [
        "<a href=\"https://colab.research.google.com/github/ArminVarmaz/DE_DA/blob/main/Termin_2/Termin_2.ipynb\" target=\"_parent\"><img src=\"https://colab.research.google.com/assets/colab-badge.svg\" alt=\"Open In Colab\"/></a>"
      ]
    },
    {
      "cell_type": "markdown",
      "source": [
        "# 2. Termin\n",
        "\n",
        "**Ziele des 2. Termins**\n",
        "\n",
        "\n",
        "*   Wiederholung und Übungen aus dem 1. Termin\n",
        "*   Einführung in Daten und Datenmanagement\n",
        "*   Erste Nutzung von Pandas und NymPy\n",
        "\n",
        "\n"
      ],
      "metadata": {
        "id": "xgONHK87qAmK"
      }
    },
    {
      "cell_type": "markdown",
      "source": [
        "* [Datenimport](#scrollTo=T9Z_dBseV5Ux&line=5&uniqifier=1)\n",
        "* [Sortierung und Auswahl](#scrollTo=ksfdhOMod2wS&line=1&uniqifier=1)\n",
        "* [Visualisierung](#scrollTo=6SKBpdM7ma9X&line=3&uniqifier=1)\n",
        "* [Aufgabe zum Selbstmachen](#scrollTo=95O3XY9PqJ6a&line=1&uniqifier=1)"
      ],
      "metadata": {
        "id": "1ugOzkLfeyPN"
      }
    },
    {
      "cell_type": "markdown",
      "source": [
        "## Datenimport\n",
        "\n",
        "Daten können in unterschiedlichen Skalierung, Frequenz, Dateiformaten etc. vorliegen. Der Regelfall in betrieblicher Praxis sind Daten in einer Datenbank enhalten, die entweder in eine Tabellenkalkulation (typischerweise Excel) exportiert oder gar in der Tabellenkalkulation gemanmaget werden. Der typische Datenimport in betrieblicher Praxis sieht einen Datenimport aus Excel vor. Daher werden wir damit i.d.R. arbeiten.\n",
        "\n",
        "Nachfolgend schauen wir uns einen alternativen Weg an, um die Möglichkeiten von Python zu sehen.  und wollen die Daten aus einer empirischen Studie importieren. Die Daten für diese Fallstudie stammen von der Studie [Incentive effects in the demand for health care: a bivariate panel count data estimation](https://onlinelibrary.wiley.com/doi/10.1002/jae.680) von Regina Riphahn, Achim Wambach und Andreas Million in Journal of Applied Econometrics. Die Daten können wir uns direkt über den [Datenserver](http://qed.econ.queensu.ca/jae/datasets/riphahn001/) der Zeitschrift herunterladen. Die Daten sind aktuell im Github-Ordner und werden von dort hier eingelesen und verarbeitet.\n",
        "\n",
        "In PyCharm funktioniert der Import aus einer lokalen Datei genauso einfach."
      ],
      "metadata": {
        "id": "T9Z_dBseV5Ux"
      }
    },
    {
      "cell_type": "code",
      "execution_count": null,
      "metadata": {
        "id": "Z3LFXIH-pnfT"
      },
      "outputs": [],
      "source": [
        "import numpy as np\n",
        "import pandas as pd\n",
        "\n",
        "# Originaldaten laden\n",
        "# url = 'https://raw.githubusercontent.com/ArminVarmaz/DE_DA/main/Termin_2/Data/rwm.data'\n",
        "# npdata = np.loadtxt(url)\n",
        "# dfData = pd.DataFrame(npdata)\n",
        "# Dieser Abschnitt würde eine lokale Kopie erstellen. Wir könnten auch die Datei auf Github exportieren, aber dann müsste ich Login-Parameter hinterlegen\n",
        "# df.to_excel('rwm1.xlsx', index=False)\n",
        "\n",
        "# Wir starten hier mit der Excel-Datei, die bereits Spaltenüberschriften hat\n",
        "url='https://github.com/ArminVarmaz/DE_DA/blob/main/Termin_2/Data/rwm.xlsx?raw=true'\n",
        "dfData = pd.read_excel(url, sheet_name='Sheet1')"
      ]
    },
    {
      "cell_type": "markdown",
      "source": [
        "Zeige die Spaltenüberschriften an"
      ],
      "metadata": {
        "id": "-6IYNTXydxC1"
      }
    },
    {
      "cell_type": "code",
      "source": [
        "# entweder\n",
        "print(dfData.columns)\n",
        "# oder\n",
        "lColNames = list(dfData.columns)\n",
        "print(lColNames)\n",
        "\n"
      ],
      "metadata": {
        "colab": {
          "base_uri": "https://localhost:8080/"
        },
        "id": "w4JasSBocApp",
        "outputId": "166b26ee-e1d6-498b-e5a0-db5df6cb6e9d"
      },
      "execution_count": null,
      "outputs": [
        {
          "output_type": "stream",
          "name": "stdout",
          "text": [
            "Index(['id', 'female', 'year', 'age', 'hsat', 'handdum', 'handper', 'hhninc',\n",
            "       'hhkids', 'educ', 'married', 'haupts', 'reals', 'fachhs', 'abitur',\n",
            "       'univ', 'working', 'bluec', 'whitec', 'self', 'beamt', 'docvis',\n",
            "       'hospvis', 'public', 'addon'],\n",
            "      dtype='object')\n",
            "['id', 'female', 'year', 'age', 'hsat', 'handdum', 'handper', 'hhninc', 'hhkids', 'educ', 'married', 'haupts', 'reals', 'fachhs', 'abitur', 'univ', 'working', 'bluec', 'whitec', 'self', 'beamt', 'docvis', 'hospvis', 'public', 'addon']\n"
          ]
        }
      ]
    },
    {
      "cell_type": "markdown",
      "source": [
        "# Datensortierung und Datenauswahl\n",
        "Sortiere die Daten nach Kriterien"
      ],
      "metadata": {
        "id": "ksfdhOMod2wS"
      }
    },
    {
      "cell_type": "code",
      "source": [
        "# Sortierung: Zeige mir Daten sortiert nach Zufriedenheit\n",
        "print(\"Sortierung nach Gesundheitszufriedenheit \\n\")\n",
        "print(dfData.sort_values([\"hsat\"]))\n",
        "\n",
        "# Doppelte Sortierung: Zeige mir Daten sortiert nach Zufriedenheit\n",
        "print(\"Sortierung nach Gesundheitszufriedenheit und Geschlecht \\n\")\n",
        "print(dfData.sort_values([\"female\", \"hsat\"]))\n",
        "\n"
      ],
      "metadata": {
        "colab": {
          "base_uri": "https://localhost:8080/"
        },
        "id": "COGuhVsFd3LH",
        "outputId": "aa386c14-5bb9-4266-a249-0330d46950ce"
      },
      "execution_count": null,
      "outputs": [
        {
          "output_type": "stream",
          "name": "stdout",
          "text": [
            "Sortierung nach Gesundheitszufriedenheit \n",
            "\n",
            "         id  female  year  age  hsat  handdum  handper  hhninc  hhkids  educ  \\\n",
            "2328    630       1  1985   55   0.0      1.0    100.0  3200.0       0  10.5   \n",
            "24802  6361       0  1994   30   0.0      1.0    100.0  2900.0       0   7.0   \n",
            "2750    741       1  1994   35   0.0      0.0      0.0  4000.0       1  11.5   \n",
            "24602  6320       1  1987   40   0.0      0.0     50.0  1250.0       0  10.0   \n",
            "14804  3814       0  1985   51   0.0      0.0      0.0  5568.0       1  10.5   \n",
            "...     ...     ...   ...  ...   ...      ...      ...     ...     ...   ...   \n",
            "24645  6327       0  1991   40  10.0      0.0      0.0  3800.0       1  11.5   \n",
            "21757  5547       0  1986   31  10.0      0.0      0.0  2500.0       0  11.5   \n",
            "15463  3970       0  1994   55  10.0      0.0      0.0  4700.0       0  10.5   \n",
            "13518  3496       0  1994   56  10.0      0.0      0.0  2800.0       0  10.0   \n",
            "3761    994       1  1986   57  10.0      0.0      0.0  3800.0       0   9.0   \n",
            "\n",
            "       ...  univ  working  bluec  whitec  self  beamt  docvis  hospvis  \\\n",
            "2328   ...     0        0      0       0     0      0       6        0   \n",
            "24802  ...     0        0      0       0     0      0      17        1   \n",
            "2750   ...     0        0      0       0     0      0       8        1   \n",
            "24602  ...     0        0      0       0     0      0       8        2   \n",
            "14804  ...     0        1      1       0     0      0       3        2   \n",
            "...    ...   ...      ...    ...     ...   ...    ...     ...      ...   \n",
            "24645  ...     0        1      0       1     0      0       1        0   \n",
            "21757  ...     0        1      0       1     0      0       0        0   \n",
            "15463  ...     0        1      1       0     0      0       0        0   \n",
            "13518  ...     0        0      0       0     0      0       0        0   \n",
            "3761   ...     0        0      0       0     0      0       3        0   \n",
            "\n",
            "       public  addon  \n",
            "2328        1      0  \n",
            "24802       1      0  \n",
            "2750        1      0  \n",
            "24602       1      0  \n",
            "14804       1      0  \n",
            "...       ...    ...  \n",
            "24645       1      0  \n",
            "21757       1      0  \n",
            "15463       1      0  \n",
            "13518       1      0  \n",
            "3761        1      0  \n",
            "\n",
            "[27326 rows x 25 columns]\n",
            "Sortierung nach Gesundheitszufriedenheit und Geschlecht \n",
            "\n",
            "         id  female  year  age  hsat  handdum    handper  hhninc  hhkids  \\\n",
            "23        8       0  1984   64   0.0      1.0  70.000000  1500.0       0   \n",
            "119      31       0  1991   44   0.0      0.0   0.000000  5000.0       0   \n",
            "173      51       0  1987   32   0.0      1.0   7.649712  3650.0       1   \n",
            "174      51       0  1988   33   0.0      1.0  50.000000  2850.0       1   \n",
            "201      56       0  1984   38   0.0      0.0   0.000000  2010.0       1   \n",
            "...     ...     ...   ...  ...   ...      ...        ...     ...     ...   \n",
            "27200  7174       1  1991   25  10.0      0.0   0.000000  1700.0       0   \n",
            "27312  7280       1  1994   25  10.0      0.0   0.000000  4500.0       0   \n",
            "27318  7286       1  1994   25  10.0      0.0   0.000000  3500.0       0   \n",
            "27320  7288       1  1994   26  10.0      0.0   0.000000  4600.0       0   \n",
            "27322  7290       1  1994   29  10.0      0.0   0.000000  6000.0       0   \n",
            "\n",
            "       educ  ...  univ  working  bluec  whitec  self  beamt  docvis  hospvis  \\\n",
            "23     10.5  ...     0        1      1       0     0      0       7        2   \n",
            "119    10.5  ...     0        1      0       0     1      0       0        0   \n",
            "173    10.5  ...     0        1      1       0     0      0      14        0   \n",
            "174    10.5  ...     0        0      0       0     0      0      40        0   \n",
            "201    11.0  ...     0        1      1       0     0      0       0        1   \n",
            "...     ...  ...   ...      ...    ...     ...   ...    ...     ...      ...   \n",
            "27200  11.5  ...     0        1      0       1     0      0       1        0   \n",
            "27312   9.0  ...     0        1      1       0     0      0       4        0   \n",
            "27318  10.5  ...     0        1      1       0     0      0       2        0   \n",
            "27320  11.0  ...     0        1      0       1     0      0       0        0   \n",
            "27322  15.0  ...     0        1      0       1     0      0       8        0   \n",
            "\n",
            "       public  addon  \n",
            "23          1      0  \n",
            "119         0      0  \n",
            "173         1      0  \n",
            "174         1      0  \n",
            "201         1      0  \n",
            "...       ...    ...  \n",
            "27200       1      0  \n",
            "27312       1      0  \n",
            "27318       1      0  \n",
            "27320       1      0  \n",
            "27322       1      0  \n",
            "\n",
            "[27326 rows x 25 columns]\n"
          ]
        }
      ]
    },
    {
      "cell_type": "markdown",
      "source": [
        "Gebe nur die Daten mit gewünschten Eigenschaften aus. Hier nur Personen mit der Gesundheitszufriedenheit von 6"
      ],
      "metadata": {
        "id": "_Ju85Z_5d3bx"
      }
    },
    {
      "cell_type": "code",
      "source": [
        "# Bestimmte Werte nur anzeigen lassen\n",
        "# Zunaechst logischen Index generieren\n",
        "print(\"Alle Werte von Personen mit der Gesundheitszufriedenheit von 6 anzeigen lassen \\n\")\n",
        "bIndex = dfData[\"hsat\"] == 0\n",
        "# Gewuenschte Daten anzeigen\n",
        "print(dfData.loc[bIndex])\n"
      ],
      "metadata": {
        "colab": {
          "base_uri": "https://localhost:8080/"
        },
        "id": "iJGeODHfd30A",
        "outputId": "a9944728-8973-4cb0-f50b-d26fcaea291e"
      },
      "execution_count": null,
      "outputs": [
        {
          "output_type": "stream",
          "name": "stdout",
          "text": [
            "Alle Werte von Personen mit der Gesundheitszufriedenheit von 6 anzeigen lassen \n",
            "\n",
            "         id  female  year  age  hsat  handdum    handper  hhninc  hhkids  \\\n",
            "23        8       0  1984   64   0.0      1.0  70.000000  1500.0       0   \n",
            "64       18       1  1985   58   0.0      1.0  30.000000  2313.0       0   \n",
            "66       18       1  1991   64   0.0      1.0  70.000000  3100.0       0   \n",
            "119      31       0  1991   44   0.0      0.0   0.000000  5000.0       0   \n",
            "173      51       0  1987   32   0.0      1.0   7.649712  3650.0       1   \n",
            "...     ...     ...   ...  ...   ...      ...        ...     ...     ...   \n",
            "26924  6987       0  1991   55   0.0      0.0   0.000000  1500.0       1   \n",
            "26999  7032       0  1991   52   0.0      1.0  20.000000  8000.0       1   \n",
            "27025  7051       1  1994   28   0.0      0.0   0.000000  4800.0       0   \n",
            "27122  7118       1  1991   52   0.0      0.0   0.000000  4500.0       0   \n",
            "27193  7169       0  1994   33   0.0      0.0   0.000000  5000.0       0   \n",
            "\n",
            "       educ  ...  univ  working  bluec  whitec  self  beamt  docvis  hospvis  \\\n",
            "23     10.5  ...     0        1      1       0     0      0       7        2   \n",
            "64     10.5  ...     0        0      0       0     0      0      13        1   \n",
            "66     10.5  ...     0        0      0       0     0      0      15        2   \n",
            "119    10.5  ...     0        1      0       0     1      0       0        0   \n",
            "173    10.5  ...     0        1      1       0     0      0      14        0   \n",
            "...     ...  ...   ...      ...    ...     ...   ...    ...     ...      ...   \n",
            "26924   9.0  ...     0        0      0       0     0      0       1        0   \n",
            "26999  10.5  ...     0        1      1       0     0      0      10        0   \n",
            "27025  11.5  ...     0        1      0       1     0      0       3        0   \n",
            "27122   9.0  ...     0        0      0       0     0      0       1        1   \n",
            "27193  11.5  ...     0        1      0       1     0      0       5        0   \n",
            "\n",
            "       public  addon  \n",
            "23          1      0  \n",
            "64          1      0  \n",
            "66          1      0  \n",
            "119         0      0  \n",
            "173         1      0  \n",
            "...       ...    ...  \n",
            "26924       1      0  \n",
            "26999       1      0  \n",
            "27025       1      0  \n",
            "27122       1      0  \n",
            "27193       1      0  \n",
            "\n",
            "[447 rows x 25 columns]\n"
          ]
        }
      ]
    },
    {
      "cell_type": "markdown",
      "source": [
        "Gebe nur die Daten mit gewünschten Eigenschaften aus.\n",
        "\n",
        "\n",
        "\n",
        "1.   Frauen mit der Gesundheitszufriedenheit von 6\n",
        "2.   Frauen mit der Gesundheitszufriedenheit von 6 und Uni-Abschluss\n",
        "\n",
        "Wenn wir die logische Oerationen auf Data Frames von pandas anwenden, gibt es besonderheiten zu beachten. Es ist wichtig,\n",
        "1. bitwise Operatoren (`|` anstatt `or` und `&` anstatt `and`)\n",
        "2. die Klammern um jeden Vergleichsoperator\n",
        "zu nutzen!\n",
        "\n",
        "Der Befehl `bIndex2 = (dfData[\"hsat\"] == 6) & (dfData[\"female\"] == 1)` funktioniert.\n",
        "\n",
        "Dagegen funkioniert der Befehl `bIndex2 = dfData[\"hsat\"] == 6 & dfData[\"female\"] == 1` in der Regel nicht.\n",
        "\n"
      ],
      "metadata": {
        "id": "QhFn2utYd4I1"
      }
    },
    {
      "cell_type": "code",
      "source": [
        " # Zwei Kriterien\n",
        "print(\"Alle Werte von weiblichen Personen mit der Gesundheitszufriedenheit von 6 anzeigen lassen \\n\")\n",
        "bIndex2 = (dfData[\"hsat\"] == 6) & (dfData[\"female\"] == 1)\n",
        "# Gewuenschte Daten anzeigen\n",
        "print(dfData.loc[bIndex2])\n",
        "# Drei Kriterien\n",
        "print(\"Alle Werte von weiblichen Personen mit der Gesundheitszufriedenheit von 6 und Uni-Abschluss anzeigen lassen \\n\")\n",
        "bIndex3 = (dfData[\"hsat\"] == 6) & (dfData[\"female\"] == 1) & (dfData[\"univ\"] == 1)\n",
        "# Gewuenschte Daten anzeigen\n",
        "print(dfData.loc[bIndex3])"
      ],
      "metadata": {
        "colab": {
          "base_uri": "https://localhost:8080/"
        },
        "id": "iF8MEoE5d4fO",
        "outputId": "a3339c0a-d1c8-4b9e-d920-0c2d062abd31"
      },
      "execution_count": null,
      "outputs": [
        {
          "output_type": "stream",
          "name": "stdout",
          "text": [
            "Alle Werte von weiblichen Personen mit der Gesundheitszufriedenheit von 6 anzeigen lassen \n",
            "\n",
            "         id  female  year  age  hsat  handdum  handper    hhninc  hhkids  \\\n",
            "29       10       1  1988   30   6.0      0.0      0.0  3600.000       0   \n",
            "30       10       1  1994   36   6.0      0.0      0.0  9200.000       1   \n",
            "31       11       1  1988   37   6.0      0.0      0.0  1800.000       0   \n",
            "36       12       1  1991   48   6.0      0.0      0.0  1740.000       0   \n",
            "53       16       1  1985   37   6.0      0.0      0.0  2100.000       1   \n",
            "...     ...     ...   ...  ...   ...      ...      ...       ...     ...   \n",
            "27082  7091       1  1991   26   6.0      0.0      0.0  2911.479       0   \n",
            "27195  7171       1  1994   26   6.0      0.0      0.0  3750.000       0   \n",
            "27247  7215       1  1994   28   6.0      0.0      0.0  2000.000       1   \n",
            "27268  7236       1  1994   31   6.0      0.0      0.0  8000.000       1   \n",
            "27297  7265       1  1994   25   6.0      0.0      0.0  4000.000       0   \n",
            "\n",
            "       educ  ...  univ  working  bluec  whitec  self  beamt  docvis  hospvis  \\\n",
            "29     18.0  ...     1        1      0       1     0      0       0        0   \n",
            "30     18.0  ...     1        1      0       1     0      0       0        0   \n",
            "31     10.5  ...     0        1      0       1     0      0       0        0   \n",
            "36      9.0  ...     0        1      0       1     0      0      10        1   \n",
            "53     10.5  ...     0        1      0       1     0      0       4        0   \n",
            "...     ...  ...   ...      ...    ...     ...   ...    ...     ...      ...   \n",
            "27082   9.0  ...     0        1      1       0     0      0       0        0   \n",
            "27195  12.0  ...     0        1      0       1     0      0       9        0   \n",
            "27247  15.0  ...     0        1      0       1     0      0       5        1   \n",
            "27268  10.5  ...     0        1      0       1     0      0       0        0   \n",
            "27297  14.5  ...     0        1      0       1     0      0       4        0   \n",
            "\n",
            "       public  addon  \n",
            "29          1      0  \n",
            "30          1      1  \n",
            "31          1      0  \n",
            "36          1      0  \n",
            "53          1      0  \n",
            "...       ...    ...  \n",
            "27082       1      0  \n",
            "27195       1      0  \n",
            "27247       1      0  \n",
            "27268       1      0  \n",
            "27297       1      0  \n",
            "\n",
            "[1290 rows x 25 columns]\n",
            "Alle Werte von weiblichen Personen mit der Gesundheitszufriedenheit von 6 und Uni-Abschluss anzeigen lassen \n",
            "\n",
            "         id  female  year  age  hsat  handdum    handper    hhninc  hhkids  \\\n",
            "29       10       1  1988   30   6.0      0.0   0.000000  3600.000       0   \n",
            "30       10       1  1994   36   6.0      0.0   0.000000  9200.000       1   \n",
            "84       22       1  1985   39   6.0      0.0   0.000000  6400.000       1   \n",
            "93       25       1  1986   62   6.0      0.0   0.000000   742.000       0   \n",
            "1514    404       1  1988   49   6.0      0.0   0.000000  4200.000       1   \n",
            "2671    715       1  1988   44   6.0      0.0   0.000000  6000.000       0   \n",
            "2702    727       1  1984   28   6.0      1.0  60.000000  4000.000       0   \n",
            "2703    727       1  1985   29   6.0      1.0  60.000000  4800.000       0   \n",
            "3021    812       1  1991   53   6.0      0.0   0.000000  2500.000       0   \n",
            "3291    880       1  1987   35   6.0      1.0   6.701853  6500.000       1   \n",
            "4031   1063       1  1991   43   6.0      0.0   0.000000  7000.000       1   \n",
            "6315   1645       1  1994   37   6.0      0.0   0.000000  3000.000       1   \n",
            "7010   1843       1  1986   43   6.0      0.0   0.000000  7100.000       1   \n",
            "7239   1896       1  1988   42   6.0      0.0   0.000000  6500.000       1   \n",
            "7990   2097       1  1991   40   6.0      0.0   0.000000  3500.000       0   \n",
            "9467   2471       1  1985   54   6.0      1.0  60.000000  3500.000       0   \n",
            "9620   2511       1  1991   32   6.0      0.0   0.000000  3500.000       0   \n",
            "10150  2629       1  1987   36   6.0      1.0   3.396562  4000.000       1   \n",
            "10153  2629       1  1994   43   6.0      0.0   0.000000  7500.000       1   \n",
            "10472  2710       1  1994   40   6.0      0.0   0.000000  8000.000       1   \n",
            "10751  2776       1  1985   31   6.0      0.0   0.000000  3000.000       1   \n",
            "10923  2820       1  1994   62   6.0      0.0   0.000000  4300.000       0   \n",
            "11779  3043       1  1985   48   6.0      0.0   0.000000  3100.000       0   \n",
            "11823  3056       1  1991   35   6.0      0.0   0.000000  6000.000       1   \n",
            "13383  3453       1  1984   50   6.0      0.0   0.000000  5010.000       0   \n",
            "13384  3453       1  1985   51   6.0      0.0   0.000000  4423.000       0   \n",
            "13388  3453       1  1991   57   6.0      0.0   0.000000  6500.000       0   \n",
            "13881  3588       1  1986   31   6.0      0.0   0.000000  4200.000       0   \n",
            "14002  3615       1  1991   46   6.0      0.0   0.000000  5000.000       0   \n",
            "14067  3633       1  1987   31   6.0      1.0   6.701853   400.000       0   \n",
            "14948  3850       1  1988   45   6.0      0.0   0.000000  5000.000       0   \n",
            "17837  4559       1  1994   38   6.0      0.0   0.000000  7720.000       1   \n",
            "18030  4604       1  1987   35   6.0      1.0   3.396562  4300.000       0   \n",
            "19543  4976       1  1988   54   6.0      0.0   0.000000  4000.000       0   \n",
            "19544  4976       1  1991   57   6.0      0.0   0.000000  6000.000       0   \n",
            "20494  5228       1  1991   56   6.0      0.0   0.000000  5900.000       0   \n",
            "21935  5607       1  1991   41   6.0      0.0   0.000000  5207.808       0   \n",
            "23512  6032       1  1986   45   6.0      0.0   0.000000  4632.434       1   \n",
            "23515  6032       1  1991   50   6.0      0.0   0.000000  2400.000       0   \n",
            "23516  6032       1  1994   53   6.0      1.0   3.396562  6446.629       0   \n",
            "23596  6052       1  1991   51   6.0      0.0   0.000000  3760.000       0   \n",
            "24133  6202       1  1988   57   6.0      0.0   0.000000  5000.000       0   \n",
            "24134  6202       1  1991   60   6.0      1.0  80.000000  5000.000       0   \n",
            "25696  6590       1  1991   41   6.0      0.0   0.000000  6000.000       1   \n",
            "25697  6590       1  1994   44   6.0      0.0   0.000000  6750.000       1   \n",
            "26739  6901       1  1988   31   6.0      0.0   0.000000  5500.000       0   \n",
            "26789  6921       1  1994   34   6.0      0.0   0.000000  7000.000       1   \n",
            "\n",
            "       educ  ...  univ  working  bluec  whitec  self  beamt  docvis  hospvis  \\\n",
            "29     18.0  ...     1        1      0       1     0      0       0        0   \n",
            "30     18.0  ...     1        1      0       1     0      0       0        0   \n",
            "84     18.0  ...     1        1      0       0     0      1       0        0   \n",
            "93     17.0  ...     1        0      0       0     0      0       2        0   \n",
            "1514   18.0  ...     1        1      0       0     0      1       1        0   \n",
            "2671   18.0  ...     1        1      0       0     0      1       0        0   \n",
            "2702   17.0  ...     1        1      0       1     0      0       0        0   \n",
            "2703   17.0  ...     1        1      0       1     0      0       3        0   \n",
            "3021   18.0  ...     1        0      0       0     0      0       2        1   \n",
            "3291   18.0  ...     1        0      0       0     0      0       6        0   \n",
            "4031   18.0  ...     1        1      0       0     0      1       2        0   \n",
            "6315   18.0  ...     1        1      0       0     1      0       8        0   \n",
            "7010   18.0  ...     1        1      0       0     0      1       3        0   \n",
            "7239   18.0  ...     1        1      0       0     0      1       2        0   \n",
            "7990   18.0  ...     1        1      0       0     1      0       0        0   \n",
            "9467   18.0  ...     1        1      0       0     0      1       0        0   \n",
            "9620   18.0  ...     1        1      0       0     1      0       2        0   \n",
            "10150  18.0  ...     1        1      0       0     0      1       1        0   \n",
            "10153  18.0  ...     1        1      0       0     0      1       8        0   \n",
            "10472  18.0  ...     1        1      0       0     0      1       0        0   \n",
            "10751  18.0  ...     1        1      0       1     0      0       1        0   \n",
            "10923  18.0  ...     1        1      0       0     0      1      11        0   \n",
            "11779  18.0  ...     1        1      0       1     0      0       5        0   \n",
            "11823  18.0  ...     1        1      0       1     0      0       1        0   \n",
            "13383  18.0  ...     1        0      0       0     0      0       3        0   \n",
            "13384  18.0  ...     1        0      0       0     0      0       5        0   \n",
            "13388  18.0  ...     1        0      0       0     0      0       1        0   \n",
            "13881  18.0  ...     1        1      0       1     0      0       8        0   \n",
            "14002  18.0  ...     1        1      0       0     0      1       0        0   \n",
            "14067  18.0  ...     1        0      0       0     0      0      20        0   \n",
            "14948  18.0  ...     1        1      0       0     0      1       3        0   \n",
            "17837  18.0  ...     1        0      0       0     0      0       3        0   \n",
            "18030  18.0  ...     1        1      0       0     0      1       0        0   \n",
            "19543  18.0  ...     1        0      0       0     0      0       3        0   \n",
            "19544  18.0  ...     1        0      0       0     0      0       3        0   \n",
            "20494  18.0  ...     1        1      0       0     0      1       6        0   \n",
            "21935  18.0  ...     1        1      0       0     1      0       3        0   \n",
            "23512  18.0  ...     1        0      0       1     0      0       6        0   \n",
            "23515  18.0  ...     1        1      0       1     0      0       3        0   \n",
            "23516  18.0  ...     1        1      0       1     0      0      12        0   \n",
            "23596  18.0  ...     1        0      0       0     0      0       7        0   \n",
            "24133  18.0  ...     1        1      0       0     0      1       2        1   \n",
            "24134  18.0  ...     1        1      0       0     0      1       5        0   \n",
            "25696  18.0  ...     1        1      0       0     0      1       2        0   \n",
            "25697  18.0  ...     1        1      0       0     0      1       1        0   \n",
            "26739  18.0  ...     1        1      0       1     0      0       2        0   \n",
            "26789  18.0  ...     1        1      0       1     0      0       3        0   \n",
            "\n",
            "       public  addon  \n",
            "29          1      0  \n",
            "30          1      1  \n",
            "84          0      0  \n",
            "93          1      0  \n",
            "1514        0      0  \n",
            "2671        0      0  \n",
            "2702        1      0  \n",
            "2703        1      0  \n",
            "3021        1      0  \n",
            "3291        0      0  \n",
            "4031        0      0  \n",
            "6315        0      0  \n",
            "7010        0      0  \n",
            "7239        0      0  \n",
            "7990        1      0  \n",
            "9467        0      0  \n",
            "9620        0      0  \n",
            "10150       0      0  \n",
            "10153       0      0  \n",
            "10472       0      0  \n",
            "10751       1      0  \n",
            "10923       0      0  \n",
            "11779       1      0  \n",
            "11823       1      0  \n",
            "13383       1      0  \n",
            "13384       1      0  \n",
            "13388       1      0  \n",
            "13881       1      0  \n",
            "14002       0      0  \n",
            "14067       1      0  \n",
            "14948       0      0  \n",
            "17837       1      0  \n",
            "18030       0      0  \n",
            "19543       0      0  \n",
            "19544       1      1  \n",
            "20494       0      0  \n",
            "21935       1      0  \n",
            "23512       1      0  \n",
            "23515       1      0  \n",
            "23516       1      0  \n",
            "23596       1      1  \n",
            "24133       0      0  \n",
            "24134       0      0  \n",
            "25696       0      0  \n",
            "25697       0      0  \n",
            "26739       1      0  \n",
            "26789       1      0  \n",
            "\n",
            "[47 rows x 25 columns]\n"
          ]
        }
      ]
    },
    {
      "cell_type": "markdown",
      "source": [
        "# Datenvisualisierung\n",
        "\n",
        "Die Datenpräsentation umfasst die Datenvisualisierung und die Berechnung von deskriptiven Statistiken. Es ist ein der eigentlichen Datenanalyse vorangestellter Schritt. Häufig wird es auch als explorative Datenanalyse bezeichnet.\n",
        "\n",
        "In der heutigen Sitzung werden wir uns nur die Datenvisualisierung anschauen. Die Bildung von deskriptiven Statistiken werden wir uns im nächsten Termin anschauen.\n"
      ],
      "metadata": {
        "id": "6SKBpdM7ma9X"
      }
    },
    {
      "cell_type": "markdown",
      "source": [
        "## Histogramme mit integers"
      ],
      "metadata": {
        "id": "tEY8eMB2nnCW"
      }
    },
    {
      "cell_type": "code",
      "source": [
        "\n",
        "# Zusaetzliche Bibliothek notwendig\n",
        "import matplotlib.pyplot as plt\n",
        "\n",
        "# Histogramm für die Spalte \"hsat\" erstellen\n",
        "plt.hist(dfData['hsat'], bins=11)\n",
        "\n",
        "# Achsenbeschriftungen hinzufügen\n",
        "plt.xlabel('hsat')\n",
        "plt.ylabel('Häufigkeit')\n",
        "\n",
        "# Diagramm anzeigen\n",
        "plt.show()\n",
        "\n",
        "\n",
        "\n",
        "# Histogramm von hsat in Abhängigkeit vom Geschlecht erstellen\n",
        "plt.hist([dfData[dfData['female'] == 0]['hsat'], dfData[dfData['female'] == 1]['hsat']], bins=10, label=['Männer', 'Frauen'])\n",
        "plt.pie\n",
        "# Achsenbeschriftungen hinzufügen\n",
        "plt.xlabel('hsat')\n",
        "plt.ylabel('Häufigkeit')\n",
        "\n",
        "# Legende hinzufügen\n",
        "plt.legend()\n",
        "\n",
        "# Diagramm anzeigen\n",
        "plt.show()\n",
        "\n"
      ],
      "metadata": {
        "colab": {
          "base_uri": "https://localhost:8080/",
          "height": 562
        },
        "id": "G8N_dnvrnJcF",
        "outputId": "d8d924f3-5715-4abd-c07d-84cf8798de71"
      },
      "execution_count": null,
      "outputs": [
        {
          "output_type": "display_data",
          "data": {
            "text/plain": [
              "<Figure size 432x288 with 1 Axes>"
            ],
            "image/png": "[encoded data removed]"
          },
          "metadata": {
            "needs_background": "light"
          }
        },
        {
          "output_type": "display_data",
          "data": {
            "text/plain": [
              "<Figure size 432x288 with 1 Axes>"
            ],
            "image/png": "[encoded data removed]"
          },
          "metadata": {
            "needs_background": "light"
          }
        }
      ]
    },
    {
      "cell_type": "markdown",
      "source": [
        "## Kuchendigramm mit integers"
      ],
      "metadata": {
        "id": "OL1Mzikxn0q-"
      }
    },
    {
      "cell_type": "code",
      "source": [
        "\n",
        "# Anzahl der Vorkommen jedes Wertes in der Spalte \"hsat\" ermitteln\n",
        "hsat_counts = dfData['hsat'].value_counts().sort_index()\n",
        "\n",
        "# Kuchendiagramm für \"hsat\" erstellen\n",
        "plt.pie(hsat_counts.values, labels=hsat_counts.index, autopct='%1.1f%%')\n",
        "\n",
        "# Titel und Beschriftung hinzufügen\n",
        "plt.title('Verteilung der Zufriedenheit mit der Gesundheit')\n",
        "plt.legend(title='Zufriedenheit', bbox_to_anchor=(1.1, 1), loc='upper left',fontsize='small')\n",
        "\n",
        "# Diagramm anzeigen\n",
        "plt.show()\n"
      ],
      "metadata": {
        "colab": {
          "base_uri": "https://localhost:8080/",
          "height": 284
        },
        "id": "es0cQi8tnkvM",
        "outputId": "aca1346d-249b-475f-e53f-8ae271e486f8"
      },
      "execution_count": null,
      "outputs": [
        {
          "output_type": "display_data",
          "data": {
            "text/plain": [
              "<Figure size 432x288 with 1 Axes>"
            ],
            "image/png": "[encoded data removed]"
          },
          "metadata": {}
        }
      ]
    },
    {
      "cell_type": "markdown",
      "source": [
        "## Histogramm mit floats"
      ],
      "metadata": {
        "id": "0yPhtMNsnknn"
      }
    },
    {
      "cell_type": "code",
      "source": [
        "# Histogramm für \"hhninc\" erstellen\n",
        "plt.hist(dfData['hhninc'], bins=100)\n",
        "\n",
        "# Titel und Beschriftung hinzufügen\n",
        "plt.title('Histogramm des Haushaltseinkommens')\n",
        "plt.xlabel('Einkommen')\n",
        "plt.ylabel('Anzahl der Haushalte')\n",
        "\n",
        "# Diagramm anzeigen\n",
        "plt.show()"
      ],
      "metadata": {
        "colab": {
          "base_uri": "https://localhost:8080/",
          "height": 316
        },
        "id": "ctgKhwUInkfj",
        "outputId": "df6c723a-e2ec-4171-9bad-bc1498e1b703"
      },
      "execution_count": null,
      "outputs": [
        {
          "output_type": "display_data",
          "data": {
            "text/plain": [
              "<Figure size 432x288 with 1 Axes>"
            ],
            "image/png": "[encoded data removed]"
          },
          "metadata": {
            "needs_background": "light"
          }
        }
      ]
    },
    {
      "cell_type": "markdown",
      "source": [
        "## Boxplots mit floats"
      ],
      "metadata": {
        "id": "nS4ziq3knkXt"
      }
    },
    {
      "cell_type": "code",
      "source": [
        "\n",
        "# Boxplot für \"hhninc\" erstellen\n",
        "plt.boxplot(dfData['hhninc'])\n",
        "\n",
        "# Titel und Beschriftung hinzufügen\n",
        "plt.title('Boxplot des Haushaltseinkommens')\n",
        "plt.ylabel('Einkommen')\n",
        "\n",
        "# Diagramm anzeigen\n",
        "plt.show()"
      ],
      "metadata": {
        "colab": {
          "base_uri": "https://localhost:8080/",
          "height": 301
        },
        "id": "rVZFneAsnkP6",
        "outputId": "4453d0c8-8ad9-4625-aeba-44a323bd5dab"
      },
      "execution_count": null,
      "outputs": [
        {
          "output_type": "display_data",
          "data": {
            "text/plain": [
              "<Figure size 432x288 with 1 Axes>"
            ],
            "image/png": "[encoded data removed]"
          },
          "metadata": {
            "needs_background": "light"
          }
        }
      ]
    },
    {
      "cell_type": "markdown",
      "source": [
        "# Freiwillige Aufgabe\n",
        "\n",
        "Im [Code](#scrollTo=G8N_dnvrnJcF&line=3&uniqifier=1) nehme ich an, dass die Zufriedenheit zwischen 1 und 10 als integer angegeben wird. Allerdings gibt es im Datensatz 0er Werte sowie Werte, die keine integer sind.\n",
        "\n",
        "Freiwillige Aufgabe zum Festigen der Programmierung: Schreiben Sie ein Code, mit dem die unqiuen Werte ermittelt und für diese Werte die Anzahl der Nennungen bestimmt.\n",
        "\n",
        "Tipp: Sie können `unique` sowie `for`-Schleifen nutzen."
      ],
      "metadata": {
        "id": "95O3XY9PqJ6a"
      }
    }
  ]
}