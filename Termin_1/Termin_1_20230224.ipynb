{
  "cells": [
    {
      "cell_type": "markdown",
      "metadata": {
        "id": "view-in-github",
        "colab_type": "text"
      },
      "source": [
        "<a href=\"https://colab.research.google.com/github/ArminVarmaz/DE_DA/blob/main/Termin_1/Termin_1_20230224.ipynb\" target=\"_parent\"><img src=\"https://colab.research.google.com/assets/colab-badge.svg\" alt=\"Open In Colab\"/></a>"
      ]
    },
    {
      "cell_type": "markdown",
      "id": "b53567b6",
      "metadata": {
        "id": "b53567b6"
      },
      "source": [
        "# 1. Termin\n",
        "\n",
        "**Ziele des 1. Termins (Einführung)**\n",
        "\n",
        "- [Nutzung von Colab und GitHub für Lehrbeispiele](https://colab.research.google.com/drive/1q0-tSPquK8EFjNDSIAXPRI04TW7VCr5o#scrollTo=70a0337e) \n",
        "- [Kurzeinführung in Python](https://colab.research.google.com/drive/1q0-tSPquK8EFjNDSIAXPRI04TW7VCr5o#scrollTo=kor-LKUt85wt)\n",
        "- [Instalation einer IDE am Beispiel von PyCharm](https://colab.research.google.com/drive/1q0-tSPquK8EFjNDSIAXPRI04TW7VCr5o#scrollTo=bce2a334)  \n",
        "- Nutzung von PyCharm\n",
        "- Skripte ausführen in PyCharm\n",
        "- Nutzung von ChatGPT\n",
        "- Einfache Datenanalyse"
      ]
    },
    {
      "cell_type": "markdown",
      "id": "70a0337e",
      "metadata": {
        "id": "70a0337e"
      },
      "source": [
        "# Google Colab\n",
        "Diese Datei folgt nicht dem Standardmuster mit Python-Code in einer Textdatei. Stattdessen wird ein Colab-Notizbuch als Datei gespeichert. Der Vorteil ist, dass wir formatierten Text, Python-Code und Code-Ausgabe mischen können. Zur Ausführung ist allerdings der Jupyter-Notizbuch-Server erforderlich, es handelt sich also nicht um ein eigenständiges Python-Programm. Ansonsten gibt es keinen Unterschied zwischen dem Python-Code, der in einer Programmdatei oder einem Jupyter-Notizbuch enthalten ist.\n",
        "\n",
        "Eine kurze Einführung in [Colab](https://colab.research.google.com) wird von Google mit vielen Datenanalyse-Beispielen aufgezeigt."
      ]
    },
    {
      "cell_type": "markdown",
      "id": "c5616878",
      "metadata": {
        "id": "c5616878"
      },
      "source": [
        "\n",
        "## Colab-Benutzeroberfläche\n",
        "\n"
      ]
    },
    {
      "cell_type": "markdown",
      "id": "a2b8f8a3",
      "metadata": {
        "id": "a2b8f8a3"
      },
      "source": [
        "Zwei Begriffe, die Ihnen wahrscheinlich neu sind, sollten Sie unbedingt kennenlernen: Zellen und Kernel.\n",
        "- Ein Kernel ist eine \"Rechenmaschine\", die den in einem Notizbuchdokument enthaltenen Code ausführt.\n",
        "- Eine Zelle ist ein Container für Text, der im Notizbuch angezeigt wird, oder für Code, der vom Kernel des Notizbuchs ausgeführt wird."
      ]
    },
    {
      "cell_type": "markdown",
      "id": "7008f1be",
      "metadata": {
        "id": "7008f1be"
      },
      "source": [
        "### Zellen\n",
        "\n",
        "Eine Codezelle enthält Code, der im Kernel ausgeführt werden soll. Wenn der Code ausgeführt wird, zeigt das Notizbuch die Ausgabe unterhalb der Codezelle an, die ihn erzeugt hat.\n",
        "\n",
        "Eine Markdown-Zelle enthält Text, der mit Markdown formatiert wurde, und zeigt seine Ausgabe an Ort und Stelle an, wenn die Markdown-Zelle ausgeführt wird.\n",
        "\n",
        "Die erste Zelle in einem neuen Notizbuch ist immer eine Codezelle.\n",
        "\n",
        "Probieren wir es mit einem klassischen Hallo-Welt-Beispiel aus: Geben Sie `print(\"Hello World!\")` in die Zelle ein und klicken Sie auf die Schaltfläche Notebook Run Button in der Symbolleiste oben oder drücken Sie Strg + Enter.\n",
        "\n",
        "Das Ergebnis sollte wie folgt aussehen:"
      ]
    },
    {
      "cell_type": "code",
      "execution_count": null,
      "id": "ceb0aa58",
      "metadata": {
        "colab": {
          "base_uri": "https://localhost:8080/"
        },
        "id": "ceb0aa58",
        "outputId": "d471bd26-192e-4eb8-c78c-d4d84416a93e"
      },
      "outputs": [
        {
          "output_type": "stream",
          "name": "stdout",
          "text": [
            "Hallo Welt, ich bin da!\n"
          ]
        }
      ],
      "source": [
        "print(\"Hallo Welt, ich bin da!\")"
      ]
    },
    {
      "cell_type": "markdown",
      "id": "be2ac251",
      "metadata": {
        "id": "be2ac251"
      },
      "source": [
        "### Kernel\n",
        "Hinter jedem Notebook verbirgt sich ein sog. Kernel. Wenn Sie eine Codezelle ausführen, wird dieser Code im Kernel ausgeführt. Alle Ausgaben werden an die Zelle zurückgegeben, um angezeigt zu werden. Der Zustand des Kerns bleibt über die Zeit und zwischen den Zellen bestehen - er bezieht sich auf das Dokument als Ganzes und nicht auf einzelne Zellen.\n",
        "\n",
        "\n"
      ]
    },
    {
      "cell_type": "markdown",
      "id": "5b1f1795",
      "metadata": {
        "id": "5b1f1795"
      },
      "source": [
        "## Versionskontrolle: Git und GitHub\n",
        "\n",
        "Die Versionskontrolle ist ein wesentlicher Bestandteil der Codierung und der Teamarbeit. Sie stellt sicher, dass Sie beim Schreiben eines Codes für eine Analyse oder bei der Entwicklung eines Codes/Pakets/Materials den Überblick über Ihre Fortschritte behalten. Meine Empfehlung an Sie: eignen Sie sich diese gute Gewohnheit während dieses Kurses an und nutzen Sie aktiv GitHub. \n",
        "\n",
        "Es gibt mehrere Möglichkeiten der Versionskontrolle, die alle einige Vor- und Nachteile haben. Hier listen wir die drei am häufigsten verwendeten auf:\n",
        "\n",
        "- [GitHub Desktop](https://desktop.github.com/) (und [friends](https://www.slant.co/options/13488/alternatives/~github-desktop-alternatives)\\):\n",
        "  - Anwendung zum bequemen Verfolgen von Änderungen, Commit, Pull und Push auf GitHub\n",
        "  - Pro: einfach zu benutzen, flexibel für alle Arten von Dateien, hilft Konflikte zu vermeiden\n",
        "  - Contra: zusätzliche Anwendung, sollte zur Gewohnheit werden und nicht vergessen werden\n",
        "\n",
        "- Shell/Terminal\n",
        "  - Verwendung von Shell oder Terminal für die Versionskontrolle\n",
        "  - Pro: flexibel für alle Arten von Dateien, kann buchstäblich alles damit machen\n",
        "  - Nachteil: schwerer zu erlernen, kann Fehler machen, die schwer zu korrigieren sind\n",
        "  \n",
        "Es spielt keine Rolle, was Sie verwenden, Hauptsache, Sie nutzen die Versionskontrolle. Sie macht Ihr Leben viel einfacher, besonders bei komplizierten Projekten, bei denen Sie verschiedene Richtungen testen und ausprobieren müssen. [GitHub](https://github.com/) ist eine gute Plattform für die Zusammenarbeit, aber es gibt auch noch andere.\n",
        "\n",
        "In diesem Kurs gebe ich keinen Überblick darüber, wie Versionskontrolle funktioniert. Nützliches Material finden Sie unter:\n",
        "  - Technische Grundlagen der Informatik Buch: https://info201.github.io/git-basics.html\n",
        "  - Software Carpentry Kurs (sehr zu empfehlen): https://swcarpentry.github.io/git-novice/\n",
        "  - Github Lernlabor: https://lab.github.com/\n",
        "\n",
        "Ein Beispiel für diesen Kurs: https://github.com/ArminVarmaz/DE_DA.git "
      ]
    },
    {
      "cell_type": "markdown",
      "source": [
        "# Einführung in Python\n",
        "\n",
        "Python ist eine interpretierte, objektorientierte Programmiersprache, die eine klare und einfache Syntax hat. Python eignet sich hervorragend für schnelle Prototypen und Skripte sowie für die Entwicklung großer Anwendungen.\n",
        "\n",
        "Hier sind einige wichtige Konzepte, die in Python verwendet werden:\n",
        "\n",
        "* Variablen: In Python können wir Variablen definieren, um Werte zu speichern. Eine Variable wird erstellt, indem wir einen Namen zuweisen und ihm einen Wert zuweisen. Der Wert kann jeder Datentyp sein, einschließlich Zahlen, Zeichenketten oder Booleans.\n",
        "* Datentypen: Python unterstützt eine Vielzahl von Datentypen, darunter Integer, Floats, Zeichenketten und Booleans. Wir können auch komplexe Datentypen wie Listen, Tupel und Wörterbücher verwenden.\n",
        "* Kontrollstrukturen: Python unterstützt verschiedene Kontrollstrukturen wie if-Anweisungen, Schleifen und Funktionen. Wir können diese Kontrollstrukturen verwenden, um das Verhalten Ihrer Anwendung zu steuern.\n",
        "* Funktionen: Funktionen sind ein grundlegendes Konzept in Python. Wir können eine Funktion erstellen, um bestimmte Aufgaben auszuführen. Eine Funktion kann Parameter akzeptieren und Werte zurückgeben.\n",
        "* Module: In Python können wir Code in Modulen organisieren. Ein Modul ist eine Sammlung von Funktionen und Variablen, die in einer Datei gespeichert sind. Wir können Module in Ihre Anwendung importieren und die darin enthaltenen Funktionen verwenden.\n",
        "\n",
        "Diese Konzepte bilden die Grundlage für das Verständnis von Python und sind wichtig, um die Sprache zu erlernen. Wenn Sie diese Konzepte verinnerlicht haben, können Sie damit beginnen, Python-Anwendungen zu entwickeln und komplexe Aufgaben zu automatisieren.\n"
      ],
      "metadata": {
        "id": "kor-LKUt85wt"
      },
      "id": "kor-LKUt85wt"
    },
    {
      "cell_type": "markdown",
      "source": [
        "## \"Taschenrechner\"\n",
        "\n",
        "In der einfachsten Variante können wir Python und Colab als Taschenrechner nutzen."
      ],
      "metadata": {
        "id": "hBt08zsuObFm"
      },
      "id": "hBt08zsuObFm"
    },
    {
      "cell_type": "code",
      "source": [
        "1 + 3\n",
        "\n"
      ],
      "metadata": {
        "colab": {
          "base_uri": "https://localhost:8080/"
        },
        "id": "ADpkdonz9E7-",
        "outputId": "a460a53f-759b-4206-e82b-71cb702cb5cf"
      },
      "id": "ADpkdonz9E7-",
      "execution_count": null,
      "outputs": [
        {
          "output_type": "execute_result",
          "data": {
            "text/plain": [
              "4"
            ]
          },
          "metadata": {},
          "execution_count": 5
        }
      ]
    },
    {
      "cell_type": "markdown",
      "source": [
        "## Kommentare schreiben\n",
        "\n",
        "Es ist gute Praxis, den Code mit ausreichend viel Kommentaren zu versehen, damit wir selbst nach einigen Monaten und vor allem Dritte wissen, welchen Zweck der Codeabschnitt hat. \n",
        "\n",
        "Kommentierung werden in Python mit dem Zweichen # eingeführt."
      ],
      "metadata": {
        "id": "aBfkFQtX_ec_"
      },
      "id": "aBfkFQtX_ec_"
    },
    {
      "cell_type": "code",
      "source": [
        "# Erster Versuch\n",
        "a = 1\n",
        "b = 22\n",
        "# Führe eine Berechnung mit den Variablen a und b durch und weise das Ergebnis der Variable c zu\n",
        "c = a + b\n",
        "# Gib das Ergebnis von c auf der Konsole aus\n",
        "print(c)\n",
        "# Erzeuge Variable d und weise ihr Text (String) zu\n",
        "d = \"Das ist der Wert von Variable c: \"\n",
        "# Gib den Wert von d aus\n",
        "print(d)\n",
        "# Verknüpfung von Text und Zahl. Dazu wird die Zahl in das Datentyp String umgewandelt \n",
        "e = d + str(c);\n",
        "# Gib den Wert von e aus\n",
        "print(e)"
      ],
      "metadata": {
        "colab": {
          "base_uri": "https://localhost:8080/"
        },
        "id": "UmzUms_e_3fv",
        "outputId": "c5c7e2f0-1c71-4628-f8d1-f2fbf727acc6"
      },
      "id": "UmzUms_e_3fv",
      "execution_count": null,
      "outputs": [
        {
          "output_type": "execute_result",
          "data": {
            "text/plain": [
              "434.7826086956522"
            ]
          },
          "metadata": {},
          "execution_count": 21
        }
      ]
    },
    {
      "cell_type": "markdown",
      "source": [
        "## Variablen erzeugen\n",
        "\n",
        "- Variablennamen sollen aus Buchstaben, Unterstrich _ und Ziffern bestehen, keine Leerzeichen nutzen! \n",
        "-Variablenname muss mit einem Buchstaben oder Unterstrich _ starten. \n",
        "-Python ist case-sensitive, d.h., Klein- und Großschreibung bei der Bezeichnung von Variablen beachten. Variable a ist i.d.R. etwas anders als Variable A.\n",
        "-Wenn wir einen Variablennamen zweimal nutzen, wird der Inhalt überschrieben/ersetzt durch den neuen Wert."
      ],
      "metadata": {
        "id": "pGeWwpoI8W2U"
      },
      "id": "pGeWwpoI8W2U"
    },
    {
      "cell_type": "code",
      "source": [
        "# Erzeuge Variable a und b und belege sie mit Zahlen.\n",
        "a = 1\n",
        "b = 22\n",
        "# Führe eine Berechnung mit den Variablen a und b durch und weise das Ergebnis der Variable c zu\n",
        "c = a + b\n",
        "# Gib das Ergebnis von c auf der Konsole aus\n",
        "print(c)\n",
        "# Wir haette auch dies machen können\n",
        "print(a+b)\n",
        "# Erzeuge Variable d und weise ihr Text (String) zu\n",
        "d = \"Das ist der Wert von Variable c: \"\n",
        "# Gib den Wert von d aus\n",
        "print(d)\n",
        "\n",
        "# mehhreren Variablen mehrere Werte zuordnen\n",
        "x, y, z = \"Orange\", \"Bananen\", \"Kirsche\"\n",
        "print(x)\n",
        "print(y)\n",
        "print(z)\n",
        "\n",
        "# mehhreren Variablen einen Werte zuordnen\n",
        "x = y = z = \"Blaubeere\"\n",
        "print(x)\n",
        "print(y)\n",
        "print(z)\n",
        "\n",
        "obst = [\"Apfel\", \"Bananen\", \"Kirsche\"]\n",
        "x, y, z = obst\n",
        "print(x)\n",
        "print(y)\n",
        "print(z)"
      ],
      "metadata": {
        "colab": {
          "base_uri": "https://localhost:8080/"
        },
        "id": "NjnHNm-q8srh",
        "outputId": "6693de5a-254b-437b-b5b9-17c3989dbe0f"
      },
      "id": "NjnHNm-q8srh",
      "execution_count": null,
      "outputs": [
        {
          "output_type": "stream",
          "name": "stdout",
          "text": [
            "23\n",
            "23\n",
            "Das ist der Wert von Variable c: \n",
            "Orange\n",
            "Bananen\n",
            "Kirsche\n",
            "Blaubeere\n",
            "Blaubeere\n",
            "Blaubeere\n",
            "Apfel\n",
            "Bananen\n",
            "Kirsche\n"
          ]
        }
      ]
    },
    {
      "cell_type": "markdown",
      "source": [
        "Variablen können wie bisher außerhalb von Funktionen in einem Skript definiert werden. In diesem Fall bezeichnen wir diese Variablen als global\n",
        "\n",
        "Variablen können auch in einer Funktion definiert werden. Dann wird Ihnen nur in der Funktion der Wert zugewiesen und nur in der Funktion können wir auf diesen Wert zugreifen. Außerhalb der Funktion können wir den Wert nicht nutzen. Deswegen werden diese Variablen als lokale Variablen bezeichnet.\n",
        "\n",
        "\n"
      ],
      "metadata": {
        "id": "AcFphKuXGxmH"
      },
      "id": "AcFphKuXGxmH"
    },
    {
      "cell_type": "code",
      "source": [
        "x = \"toll\"\n",
        "\n",
        "# Unsere erste Funktion! Aber dazu später mehr\n",
        "def myfunc():\n",
        "  x = \"fantastisch\"\n",
        "  print(\"Python is \" + x)\n",
        "\n",
        "myfunc() # hier wird auf die lokale Variable zugegriffen\n",
        "\n",
        "print(\"Python is \" + x) # hier wird auf die globale Variable zugegriffen"
      ],
      "metadata": {
        "colab": {
          "base_uri": "https://localhost:8080/"
        },
        "id": "XM8qmx5qGrox",
        "outputId": "a32efe2b-c2c0-425a-86db-cc7b954777a8"
      },
      "id": "XM8qmx5qGrox",
      "execution_count": null,
      "outputs": [
        {
          "output_type": "stream",
          "name": "stdout",
          "text": [
            "Python is fantastisch\n",
            "Python is toll\n"
          ]
        }
      ]
    },
    {
      "cell_type": "markdown",
      "source": [
        "Wenn wir unbedingt und mit sehr sehr gutem Grund global auf den Wert einer lokalen Variable zugreifen wollten, können wir innerhalb der Funktion  auf d"
      ],
      "metadata": {
        "id": "WnPOF2C3IAPp"
      },
      "id": "WnPOF2C3IAPp"
    },
    {
      "cell_type": "markdown",
      "source": [
        "## Datentypen\n",
        "\n",
        "Typischerweise wird einer Variable ein Wert vom bestimmten Datentyp zugewiesen. Im obigen Beispiel haben wir zwei Datentypen kennengerlent: Integer und String. \n",
        "\n",
        "Mit dem Befehl ```type()``` können wir den Datentyp ermitteln und dann mittels ```print()``` ausgeben lassen. \n",
        "\n",
        "Die Verknüpfungen, egal ob zwischen Zahlen und Zahlen, oder Strings und Strings, oder zwischen anderen Datentypen oder zwischen Kombinationen unterschieldicher Datentypen wird als Konkatenation (engl. Concatenation) bezeichnet."
      ],
      "metadata": {
        "id": "FvD2Y0t6ECW9"
      },
      "id": "FvD2Y0t6ECW9"
    },
    {
      "cell_type": "code",
      "source": [
        "# Erzeuge Variable a und b und belege sie mit Zahlen.\n",
        "a = 1\n",
        "b = 22\n",
        "# Führe eine Berechnung mit den Variablen a und b durch und weise das Ergebnis der Variable c zu\n",
        "c = a + b\n",
        "print(type(c))\n",
        "# Erzeuge Variable d und weise ihr Text (String) zu\n",
        "d = \"Das ist der Wert von Variable c: \"\n",
        "print(type(d))\n",
        "# Verknüpfung von Text und Zahl. Dazu wird die Zahl in das Datentyp String umgewandelt\n",
        "e = d + str(c);\n",
        "# Gib den Wert von e aus\n",
        "print(e)\n",
        "print(type(e))\n",
        "\n",
        "# Eine andere mögliche Verknüpfung mit der Funktion format\n",
        "f = \"Das ist der Wert von Variable c {} \"\n",
        "print(e.format(c))\n"
      ],
      "metadata": {
        "colab": {
          "base_uri": "https://localhost:8080/"
        },
        "id": "GFB3GFTrEiil",
        "outputId": "637bc07a-f081-40b8-9b7b-2e99a5ac8ee2"
      },
      "id": "GFB3GFTrEiil",
      "execution_count": null,
      "outputs": [
        {
          "output_type": "stream",
          "name": "stdout",
          "text": [
            "<class 'int'>\n",
            "<class 'str'>\n",
            "Das ist der Wert von Variable c: 23\n",
            "<class 'str'>\n",
            "Das ist der Wert von Variable c: 23\n"
          ]
        }
      ]
    },
    {
      "cell_type": "markdown",
      "source": [
        "Neben diesen beiden Datentypen kennt Python eine Reihe weiterer Typen, die hier examplarisch dargestellt werden. Eine detailierte Liste und Beschreibung von Datentypen ist in der offiziellen [Dokumentation](https://docs.python.org/3/library/datatypes.html) von Python zu finden. "
      ],
      "metadata": {
        "id": "dbTBT2iKF0H8"
      },
      "id": "dbTBT2iKF0H8"
    },
    {
      "cell_type": "code",
      "source": [
        "x = \"Hello World\"\t                            # str\t\n",
        "print(x)\n",
        "x = 20\t                                      # int\t\n",
        "print(x)\n",
        "x = -20.5\t                                    # float\t\n",
        "print(x)\n",
        "x = 1j\t                                      # complex\t\n",
        "print(x)\n",
        "x = [\"apple\", \"banana\", \"cherry\"]\t            # list\t\n",
        "print(x)\n",
        "x = (\"apple\", \"banana\", \"cherry\")\t            # tuple\t\n",
        "print(x)\n",
        "x = range(6)\t                                # range\t\n",
        "print(x)\n",
        "x = {\"name\" : \"John\", \"age\" : 36}\t            # dict\t\n",
        "print(x)\n",
        "x = {\"apple\", \"banana\", \"cherry\"}\t            # set\t\n",
        "print(x)\n",
        "x = frozenset({\"apple\", \"banana\", \"cherry\"})\t# frozenset\t\n",
        "print(x)\n",
        "x = True\t                                    # bool\t\n",
        "print(x)\n",
        "x = b\"Hello\"\t                                # bytes\t\n",
        "print(x)\n",
        "x = bytearray(5)\t                            # bytearray\t\n",
        "print(x)\n",
        "x = memoryview(bytes(5))\t                    # memoryview\t\n",
        "print(x)\n",
        "x = None\t                                    #  NoneType\t\n",
        "\n"
      ],
      "metadata": {
        "colab": {
          "base_uri": "https://localhost:8080/"
        },
        "id": "_wRMeFBZIhiJ",
        "outputId": "3bc2fded-fd88-445d-a7ba-827a65e01eaf"
      },
      "id": "_wRMeFBZIhiJ",
      "execution_count": null,
      "outputs": [
        {
          "output_type": "stream",
          "name": "stdout",
          "text": [
            "Hello World\n",
            "20\n",
            "-20.5\n",
            "1j\n",
            "['apple', 'banana', 'cherry']\n",
            "('apple', 'banana', 'cherry')\n",
            "range(0, 6)\n",
            "{'name': 'John', 'age': 36}\n",
            "{'cherry', 'apple', 'banana'}\n",
            "frozenset({'cherry', 'apple', 'banana'})\n",
            "True\n",
            "b'Hello'\n",
            "bytearray(b'\\x00\\x00\\x00\\x00\\x00')\n",
            "<memory at 0x7f95b09f14c0>\n"
          ]
        }
      ]
    },
    {
      "cell_type": "markdown",
      "source": [
        "Die dargestellten Datentypen können wir mit den Befehlen, die als Kommentar gesetzt sind, erstellen, um Verwechselungen zu vermeiden. Nachfolgend einige Beispiel:"
      ],
      "metadata": {
        "id": "Lp0qsf-VIZUx"
      },
      "id": "Lp0qsf-VIZUx"
    },
    {
      "cell_type": "code",
      "source": [
        "x = str(\"Hallo Welt\")\n",
        "print(x)\n",
        "x = float(20)\n",
        "print(x)\n",
        "x = int(20)\n",
        "print(x)"
      ],
      "metadata": {
        "colab": {
          "base_uri": "https://localhost:8080/"
        },
        "id": "XAVTbbbbIq2q",
        "outputId": "e3017aad-a00a-4791-d1d9-954602f77a99"
      },
      "id": "XAVTbbbbIq2q",
      "execution_count": null,
      "outputs": [
        {
          "output_type": "stream",
          "name": "stdout",
          "text": [
            "Hallo Welt\n",
            "20.0\n",
            "20\n"
          ]
        }
      ]
    },
    {
      "cell_type": "markdown",
      "source": [
        "## Zufallszahlen\n",
        "\n",
        "Für das Testen des eigenen Codes und für die Zwecke von Simulationen benötigen wir Zufallszahlen. Das Grundprogramm von Python kann diese Aufgabe nicht hinreichend gut erledigen. Aber es gibt viele sog. Bibliotheken, die Python erweitern. Dazu später mehr. Wichtig an dieser Stelel ist die Kenntnis, dass wir für die Erzeugung von Zufallszahlen die Bibliothek ```random``` benötigen.\n",
        "\n",
        "Bei dem Nacharbeiten lohnt es sich, die Zufallszahlen wiederholt berechnen zu lassen. Die Zahl sollte sich ändern.\n",
        "\n",
        "Ein letzter Hinweis: Computer sind deterministische Maschienen, die an sich 'Zufall nicht können'. Es gibt verschiedene Algorithmen zur Erzeucgung von Zufallszahlen. Diese Algorithmen erstellen Pseudo-Zufallszahlen, die sich, wenn der Algorithmus gut ist, nicht von echten Zufallszahlen statistisch unterscheiden lassen. Die Prüfung der Eigenschaften vom Python-Zufallsgenerator könnte eine spannende Thematik für die Fallstudie sein.  "
      ],
      "metadata": {
        "id": "HlW6p472JsE3"
      },
      "id": "HlW6p472JsE3"
    },
    {
      "cell_type": "code",
      "source": [
        "# Bibliothek laden\n",
        "import random as rd\n",
        "# Zufallszahlen\n",
        "zz = rd.randrange(1, 10)\n",
        "print(\"Erste Zufallszahl ist \" + str(zz))\n",
        "\n",
        "# Mehr Zufallszahlen\n",
        "zz = rd.randrange(1, 1000)\n",
        "print(\"Zweite Zufallszahl ist \" + str(zz))\n",
        "\n",
        "\n",
        "# Noch mehr Zufallszahlen\n",
        "zz = rd.gauss(100, 1000)\n",
        "print(\"Dritte Zufallszahl ist \" + str(zz))\n",
        "\n",
        "\n"
      ],
      "metadata": {
        "colab": {
          "base_uri": "https://localhost:8080/"
        },
        "id": "Wmivh3TmJlWB",
        "outputId": "fc3b8a21-27d5-47d0-c2e8-9c7c8318bac7"
      },
      "id": "Wmivh3TmJlWB",
      "execution_count": null,
      "outputs": [
        {
          "output_type": "stream",
          "name": "stdout",
          "text": [
            "Erste Zufallszahl ist 3\n",
            "Zweite Zufallszahl ist 977\n",
            "Dritte Zufallszahl ist -265.79097196032586\n"
          ]
        }
      ]
    },
    {
      "cell_type": "markdown",
      "source": [
        "# Operatoren\n",
        "\n",
        "In Python gibt es verschiedene Operatoren, die sich den folgenden Gruppen zuornden lassen:\n",
        "\n",
        "\n",
        "*   Arithmetische Operatoren\n",
        "*   Zuordnungsoperatoren\n",
        "*   Vergleichsoperatoren\n",
        "*   Logische Operatoren\n",
        "*   Identitätsoperatoren\n",
        "*   Mitgliedsoperatoren\n",
        "*   'Bitwise'-Operatoren\n",
        "\n",
        "Wir haben bereits Arithmetische Operatoren (```+, -```) und auch Zuweisungsoperator ```=``` genutzt. Nachfolgend werden wir zusätzlich Vergleichsoperatoren und logische Operatoren nutzen.\n",
        "\n",
        "Eine Beschreibung der Operatoren mit Beispielen kann [hier](https://www.programiz.com/python-programming/operators) nachgelesen werden. "
      ],
      "metadata": {
        "id": "fNYOumPt-J7J"
      },
      "id": "fNYOumPt-J7J"
    },
    {
      "cell_type": "code",
      "source": [
        "# Bibliothek importieren\n",
        "import random as rd\n",
        "# Beispielzahlen erzeugen\n",
        "a = rd.randrange(2,100,2) # gerade Zahl\n",
        "print('a ist ', a)\n",
        "b = rd.randrange(1,99,2) # ungerade Zahl\n",
        "print('b ist ', b)\n",
        "# Vergleichsoperator\n",
        "# Gleichheit\n",
        "print('a == b',a==b)\n",
        "# Ungleichheit\n",
        "print('a != b',a!=b)\n",
        "# Größer gleich\n",
        "print('a >= b',a>=b)\n",
        "# Kleiner gleich\n",
        "print('a <= b',a<=b)\n",
        "# Größer \n",
        "print('a > b',a>b)\n",
        "# Kleiner \n",
        "print('a < b',a<b)\n",
        "\n",
        "# Logische Operatoren sind and und or\n",
        "print('(a >= 2) and (b >= 1) ist ',(a >= 2) and (b >= 1))\n",
        "print('(a >= 2) or (b >= 100) ist ',(a >= 2) or (b >= 100))\n",
        "print('not ((a >= 2) or (b >= 100)) ist ',not ((a >= 2) or (b >= 100)))\n"
      ],
      "metadata": {
        "colab": {
          "base_uri": "https://localhost:8080/"
        },
        "id": "PY419b-4AtPv",
        "outputId": "d10b5972-d886-4068-ce23-ee86fa798284"
      },
      "id": "PY419b-4AtPv",
      "execution_count": null,
      "outputs": [
        {
          "output_type": "stream",
          "name": "stdout",
          "text": [
            "a ist  10\n",
            "b ist  77\n",
            "a == b False\n",
            "a != b True\n",
            "a >= b False\n",
            "a <= b True\n",
            "a > b False\n",
            "a < b True\n",
            "(a >= 2) and (b >= 1) ist  True\n",
            "(a >= 2) or (b >= 100) ist  True\n",
            "not ((a >= 2) or (b >= 100)) ist  False\n"
          ]
        }
      ]
    },
    {
      "cell_type": "markdown",
      "source": [
        "# Kontrollstrukturen\n",
        "\n",
        "Kontrollstrukturen dienen uns zur Ablaufsteuerung unseres Codes. Dabei wird die Reihenfolge von uns vorgegeben, in der unsere Berechnungen (aka Algorithmus) nacheinander ausgeführt werden. Zusätzlich können wir mit Kontrollstrukturen unsere Codes so schreiben, dass sie auf verschiedene Zustände reagieren. Gängig sind die Fälle, in denen Programmteile nur bedingt (bedingte Anweisung) oder wiederholt (Schleife) ausgeführt werden.\n",
        "\n",
        "Die bedingten Anweisungen erfolgen über die Wenn-Dann-Strukturen (```if...then...else```) und die wiederholte Anweisung erfolgt über die Schleifen (```for, while```).\n",
        "\n",
        "Nachfolgend schauen wir uns einige Beispiele an."
      ],
      "metadata": {
        "id": "dnvHNVwcC9-F"
      },
      "id": "dnvHNVwcC9-F"
    },
    {
      "cell_type": "code",
      "source": [
        "# Bibliothek importieren\n",
        "import random as rd\n",
        "# Beispielzahlen erzeugen\n",
        "a = rd.randrange(1,200,2) \n",
        "print('a ist ', a)\n",
        "b = rd.randrange(1,200,2) \n",
        "print('b ist ', b)\n",
        "\n",
        "# WENN-DANN-Abzweigung\n",
        "if b>a:\n",
        "  print(\"b ist größer als a\")\n",
        "\n",
        "# WENN-SONST-DANN Abzweicgung\n",
        "if b>a:\n",
        "  print(\"b ist größer als a\")\n",
        "else:\n",
        "  print(\"b ist kleiner als a oder sie sind gleich\")\n",
        "\n",
        "# WENN_WENN-SONST-DANN Abzweicgung\n",
        "if b>a:\n",
        "  print(\"b ist größer als a\")\n",
        "elif b==a:\n",
        "  print(\"b und a sind gleich\")\n",
        "else:\n",
        "  print(\"b ist kleiner als a\")\n",
        "\n"
      ],
      "metadata": {
        "colab": {
          "base_uri": "https://localhost:8080/"
        },
        "id": "MyeaRIQ9HH2E",
        "outputId": "e8816922-ab78-414c-a553-4041fbec3615"
      },
      "id": "MyeaRIQ9HH2E",
      "execution_count": null,
      "outputs": [
        {
          "output_type": "stream",
          "name": "stdout",
          "text": [
            "a ist  75\n",
            "b ist  165\n",
            "b ist größer als a\n",
            "b ist größer als a\n",
            "b ist größer als a\n"
          ]
        }
      ]
    },
    {
      "cell_type": "code",
      "source": [
        "# Bibliothek importieren\n",
        "import numpy as np\n",
        "# Beispielzahlen erzeugen\n",
        "a = np.random.rand(5,1) # \n",
        "print('a ist ', a)\n",
        "\n",
        "# Erste Schleifen\n",
        "for x in a:\n",
        "  print('Zahl ist ', x)\n",
        "\n",
        "# Verknüpfung zwischen for-Schleife und if-Bedingug\n",
        "for x in a:\n",
        "  print('Zahl ist ', x)\n",
        "  if x<0.5:\n",
        "    print('Diese Zahl ist besonders. Sie ist ', x)\n",
        "\n",
        "# Verschachtelte Schleifen\n",
        "# Beispielzahlen erzeugen\n",
        "a = np.random.rand(5,5) # \n",
        "print('a ist ', a)"
      ],
      "metadata": {
        "colab": {
          "base_uri": "https://localhost:8080/"
        },
        "id": "bGdqp_1pJOc5",
        "outputId": "b00cbc0a-8ad5-4003-afd1-4e6b0190f3ff"
      },
      "id": "bGdqp_1pJOc5",
      "execution_count": null,
      "outputs": [
        {
          "output_type": "stream",
          "name": "stdout",
          "text": [
            "a ist  [[0.73710566]\n",
            " [0.71218389]\n",
            " [0.78098149]\n",
            " [0.39608276]\n",
            " [0.59652393]]\n",
            "Zahl ist  [0.73710566]\n",
            "Zahl ist  [0.71218389]\n",
            "Zahl ist  [0.78098149]\n",
            "Zahl ist  [0.39608276]\n",
            "Zahl ist  [0.59652393]\n",
            "Zahl ist  [0.73710566]\n",
            "Zahl ist  [0.71218389]\n",
            "Zahl ist  [0.78098149]\n",
            "Zahl ist  [0.39608276]\n",
            "Diese Zahl ist besonders. Sie ist  [0.39608276]\n",
            "Zahl ist  [0.59652393]\n",
            "a ist  [[0.98549559 0.69341762 0.35134387 0.57160665 0.79987124]\n",
            " [0.67070061 0.40377168 0.9366913  0.55343028 0.29155531]\n",
            " [0.3288978  0.45700179 0.23194792 0.91963206 0.9392139 ]\n",
            " [0.38626189 0.81901452 0.31812694 0.73101717 0.73632936]\n",
            " [0.67835774 0.23686596 0.78953648 0.65531505 0.85305741]]\n"
          ]
        }
      ]
    },
    {
      "cell_type": "code",
      "source": [
        "# Bibliothek importieren\n",
        "import numpy as np\n",
        "# Beispielzahlen erzeugen\n",
        "a = np.random.rand(5,5) # \n",
        "print('a ist ', a)\n",
        "\n",
        "# Verschachtelte Schleifen\n",
        "for x in range(1,6):\n",
        "  for y in range(1,6):\n",
        "    print('Die Zahl ist ', a[x-1,y-1])\n",
        "\n"
      ],
      "metadata": {
        "colab": {
          "base_uri": "https://localhost:8080/"
        },
        "id": "PITov6g4KfYg",
        "outputId": "9ff7cfcc-2027-4514-d5a4-942896818bca"
      },
      "id": "PITov6g4KfYg",
      "execution_count": null,
      "outputs": [
        {
          "output_type": "stream",
          "name": "stdout",
          "text": [
            "a ist  [[0.39571741 0.02225674 0.20514816 0.77108737 0.33381187]\n",
            " [0.69268354 0.96695302 0.45572892 0.46545474 0.70313635]\n",
            " [0.22532698 0.09642449 0.06567685 0.60235739 0.17155767]\n",
            " [0.26078283 0.76442513 0.16003552 0.17800682 0.53345887]\n",
            " [0.18906965 0.15433472 0.94260534 0.91053398 0.3718003 ]]\n",
            "Die Zahl ist  0.3957174061846286\n",
            "Die Zahl ist  0.02225674498787622\n",
            "Die Zahl ist  0.2051481639772491\n",
            "Die Zahl ist  0.771087372766889\n",
            "Die Zahl ist  0.33381187376450694\n",
            "Die Zahl ist  0.6926835416036455\n",
            "Die Zahl ist  0.9669530163945075\n",
            "Die Zahl ist  0.45572892233527484\n",
            "Die Zahl ist  0.4654547434938119\n",
            "Die Zahl ist  0.7031363512201356\n",
            "Die Zahl ist  0.22532698130173112\n",
            "Die Zahl ist  0.0964244906125612\n",
            "Die Zahl ist  0.06567684597112888\n",
            "Die Zahl ist  0.6023573860654354\n",
            "Die Zahl ist  0.17155767408588796\n",
            "Die Zahl ist  0.2607828344069688\n",
            "Die Zahl ist  0.7644251257426623\n",
            "Die Zahl ist  0.16003551553944972\n",
            "Die Zahl ist  0.17800681602766932\n",
            "Die Zahl ist  0.5334588667031303\n",
            "Die Zahl ist  0.18906965298258582\n",
            "Die Zahl ist  0.1543347216699824\n",
            "Die Zahl ist  0.9426053350828443\n",
            "Die Zahl ist  0.9105339771949469\n",
            "Die Zahl ist  0.37180029957246064\n",
            "1\n",
            "2\n",
            "3\n"
          ]
        }
      ]
    },
    {
      "cell_type": "markdown",
      "source": [
        "# Funktionen\n",
        "\n",
        "Skripte sind die Codes, die wir bisher erstellt haben. Neben den Skripten, die zur Ablaufsteuerung von Programmen dienen, können wir auch Funktionen anlegen. Funktionen dienen zur Auslagerung von Berechnungsschritten, die wiederholt benötigt werden. Im Unterschied zu einem Skript ist eine Funktion nicht für sich selbst lauffähig; sie muss aus einem Skript aufgerufen werden.\n",
        "\n",
        "Eine Funktion wird in Python mit dem Schlüsselwort ```def``` eingeleitet. Danach folgt der Name der Funktion (gleiche Anforderung wie bei den Variablennamen), ggf. Input-Variablen und im Anschluss die eigentliche Berechnung.\n"
      ],
      "metadata": {
        "id": "xR8f-6psNhjb"
      },
      "id": "xR8f-6psNhjb"
    },
    {
      "cell_type": "code",
      "source": [
        "# Beispiel einer Funktion\n",
        "def unsere_erste_funktion():\n",
        "  print('Wow, das ist ist erste Funnktion')"
      ],
      "metadata": {
        "id": "JowOLQVmQG3M"
      },
      "id": "JowOLQVmQG3M",
      "execution_count": null,
      "outputs": []
    },
    {
      "cell_type": "code",
      "source": [
        "# Sie liefert nur dann ein Ergebnis, wenn sie aufgerufen wird\n",
        "#def unsere_erste_funktion():\n",
        "#  print('Wow, das ist ist erste Funnktion')\n",
        "\n",
        "unsere_erste_funktion()\n"
      ],
      "metadata": {
        "colab": {
          "base_uri": "https://localhost:8080/"
        },
        "id": "5XoxLdOkQoIF",
        "outputId": "0a5324ac-a8b5-4216-9f5c-ea22ee5dc826"
      },
      "id": "5XoxLdOkQoIF",
      "execution_count": null,
      "outputs": [
        {
          "output_type": "stream",
          "name": "stdout",
          "text": [
            "Wow, das ist ist erste Funnktion\n"
          ]
        }
      ]
    },
    {
      "cell_type": "markdown",
      "source": [
        "Wenn wir die Funktionen nicht nur wiederholt, sondern auch aus unterschiedlichen Skripten aufrufen wollen, dann erstellen wir ein Modul und importieren es.\n",
        "\n",
        "Ein Modul ist eine Datei, die eine Reihe von Funktionen enthält, die wir in unserer Anwendung aufnehmen möchten. Das Modul wird dann mittels ```import``` in unser Skript aufgenommen.\n"
      ],
      "metadata": {
        "id": "d92nqpoiQ5rT"
      },
      "id": "d92nqpoiQ5rT"
    },
    {
      "cell_type": "markdown",
      "id": "bce2a334",
      "metadata": {
        "id": "bce2a334"
      },
      "source": [
        "\n",
        "## PyCharm: Eine IDE für Python-Skripte\n",
        "\n",
        "Während ich im Kurs Colab-Notebooks verwende, werden Python-Codes in produktiven Umgebungen in Firmen, öffentlicher Verwaltung und akademischen Institutionen aus Skriptdateien mit der Endung `.py` ausgeführt. Colab bietet einen einfachen Texteditor zum Schreiben dieser Skriptdateien, aber die meisten Entwickler:innen verwenden eine spezielle Softwareanwendung, eine sogenannte \"integrierte Entwicklungsumgebung\" (IDE), um diese Skripte zu schreiben. \n",
        "\n",
        "Von den vielen möglichen alternativen IDEs nutzen wir PyCharm, ein kostenloses Tool für diese Entwicklungen. Es handelt sich um einen einfachen Code-Editor mit einer Vielzahl möglicher Erweiterungen. Es gibt eine Vielzahl anderer freier IDEs (u.a. von Microsoft), die für Ihre Zwecke besser geeignet ist. Es spielt keine Rolle, welche IDE genutzt wird, da die Skriptdateien mit der Endung `.py` von allen IDEs ausgeführt werden.  \n",
        "\n",
        "PyCharm kann von [hier](https://www.jetbrains.com/products/compare/?product=pycharm&product=pycharm-ce) heruntergeladen werden und Tutorials können über die [Dokumentation](https://www.jetbrains.com/help/pycharm/quick-start-guide.html) abgerufen werden.\n",
        "\n",
        "Wenn Sie Linux oder Mac nutzen, dann ist Python bereits installiert, aber Sie haben noch keine IDE.\n",
        "\n",
        "\n",
        "\n",
        "\n"
      ]
    },
    {
      "cell_type": "markdown",
      "id": "032c4444",
      "metadata": {
        "id": "032c4444"
      },
      "source": []
    }
  ],
  "metadata": {
    "kernelspec": {
      "display_name": "Python 3.10.0 64-bit",
      "language": "python",
      "name": "python3"
    },
    "language_info": {
      "codemirror_mode": {
        "name": "ipython",
        "version": 3
      },
      "file_extension": ".py",
      "mimetype": "text/x-python",
      "name": "python",
      "nbconvert_exporter": "python",
      "pygments_lexer": "ipython3",
      "version": "3.10.0"
    },
    "vscode": {
      "interpreter": {
        "hash": "98590ff4fe04c8543246b2a01debd3de3c5ca9b666f43f1fa87d5110c692004c"
      }
    },
    "colab": {
      "provenance": [],
      "include_colab_link": true
    }
  },
  "nbformat": 4,
  "nbformat_minor": 5
}