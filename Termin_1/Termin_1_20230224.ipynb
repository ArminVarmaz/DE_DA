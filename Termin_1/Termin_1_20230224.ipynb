{
  "cells": [
    {
      "cell_type": "markdown",
      "metadata": {
        "id": "view-in-github",
        "colab_type": "text"
      },
      "source": [
        "<a href=\"https://colab.research.google.com/github/ArminVarmaz/DE_DA/blob/main/Termin_1/Termin_1_20230224.ipynb\" target=\"_parent\"><img src=\"https://colab.research.google.com/assets/colab-badge.svg\" alt=\"Open In Colab\"/></a>"
      ]
    },
    {
      "cell_type": "markdown",
      "id": "b53567b6",
      "metadata": {
        "id": "b53567b6"
      },
      "source": [
        "# 1. Vorlesung\n",
        "\n",
        "**Ziele des 1. Termins (Einführung)**\n",
        "\n",
        "- Kurzeinführung in Python\n",
        "- Nutzung von Colab für Lehrbeispiele (hier)\n",
        "- Einrichtung der Software-Umgebung  \n",
        "- Nutzung von PyCharm\n",
        "- Skripte ausführen in PyCharm\n",
        "- Nutzung von ChatGPT\n",
        "- Einfache Datenanalyse (\"Data Analysis in a Nutshell\")"
      ]
    },
    {
      "cell_type": "markdown",
      "id": "70a0337e",
      "metadata": {
        "id": "70a0337e"
      },
      "source": [
        "## Google Colab\n",
        "Diese Datei folgt nicht dem Standardmuster mit Python-Code in einer Textdatei. Stattdessen wird ein Colab-Notizbuch als Datei gespeichert. Der Vorteil ist, dass wir formatierten Text, Python-Code und Code-Ausgabe mischen können. Zur Ausführung ist allerdings der Jupyter-Notizbuch-Server erforderlich, es handelt sich also nicht um ein eigenständiges Python-Programm. Ansonsten gibt es keinen Unterschied zwischen dem Python-Code, der in einer Programmdatei oder einem Jupyter-Notizbuch enthalten ist.\n",
        "\n",
        "Eine kurze Einführung in [Colab](https://colab.research.google.com) wird von Google mit vielen Datenanalyse-Beispielen aufgezeigt."
      ]
    },
    {
      "cell_type": "markdown",
      "id": "c5616878",
      "metadata": {
        "id": "c5616878"
      },
      "source": [
        "\n",
        "## Colab-Benutzeroberfläche\n",
        "\n"
      ]
    },
    {
      "cell_type": "markdown",
      "id": "a2b8f8a3",
      "metadata": {
        "id": "a2b8f8a3"
      },
      "source": [
        "Zwei Begriffe, die Ihnen wahrscheinlich neu sind, sollten Sie unbedingt kennenlernen: Zellen und Kernel.\n",
        "- Ein Kernel ist eine \"Rechenmaschine\", die den in einem Notizbuchdokument enthaltenen Code ausführt.\n",
        "- Eine Zelle ist ein Container für Text, der im Notizbuch angezeigt wird, oder für Code, der vom Kernel des Notizbuchs ausgeführt wird."
      ]
    },
    {
      "cell_type": "markdown",
      "id": "7008f1be",
      "metadata": {
        "id": "7008f1be"
      },
      "source": [
        "### Zellen\n",
        "\n",
        "Eine Codezelle enthält Code, der im Kernel ausgeführt werden soll. Wenn der Code ausgeführt wird, zeigt das Notizbuch die Ausgabe unterhalb der Codezelle an, die ihn erzeugt hat.\n",
        "\n",
        "Eine Markdown-Zelle enthält Text, der mit Markdown formatiert wurde, und zeigt seine Ausgabe an Ort und Stelle an, wenn die Markdown-Zelle ausgeführt wird.\n",
        "\n",
        "Die erste Zelle in einem neuen Notizbuch ist immer eine Codezelle.\n",
        "\n",
        "Probieren wir es mit einem klassischen Hallo-Welt-Beispiel aus: Geben Sie `print(\"Hello World!\")` in die Zelle ein und klicken Sie auf die Schaltfläche Notebook Run Button in der Symbolleiste oben oder drücken Sie Strg + Enter.\n",
        "\n",
        "Das Ergebnis sollte wie folgt aussehen:"
      ]
    },
    {
      "cell_type": "code",
      "execution_count": null,
      "id": "ceb0aa58",
      "metadata": {
        "colab": {
          "base_uri": "https://localhost:8080/"
        },
        "id": "ceb0aa58",
        "outputId": "d471bd26-192e-4eb8-c78c-d4d84416a93e"
      },
      "outputs": [
        {
          "output_type": "stream",
          "name": "stdout",
          "text": [
            "Hallo Welt, ich bin da!\n"
          ]
        }
      ],
      "source": [
        "print(\"Hallo Welt, ich bin da!\")"
      ]
    },
    {
      "cell_type": "markdown",
      "id": "be2ac251",
      "metadata": {
        "id": "be2ac251"
      },
      "source": [
        "### Kernel\n",
        "Hinter jedem Notebook verbirgt sich ein sog. Kernel. Wenn Sie eine Codezelle ausführen, wird dieser Code im Kernel ausgeführt. Alle Ausgaben werden an die Zelle zurückgegeben, um angezeigt zu werden. Der Zustand des Kerns bleibt über die Zeit und zwischen den Zellen bestehen - er bezieht sich auf das Dokument als Ganzes und nicht auf einzelne Zellen.\n",
        "\n",
        "\n"
      ]
    },
    {
      "cell_type": "markdown",
      "id": "5b1f1795",
      "metadata": {
        "id": "5b1f1795"
      },
      "source": [
        "## Versionskontrolle: Git und GitHub\n",
        "\n",
        "Die Versionskontrolle ist ein wesentlicher Bestandteil der Codierung und der Teamarbeit. Sie stellt sicher, dass Sie beim Schreiben eines Codes für eine Analyse oder bei der Entwicklung eines Codes/Pakets/Materials den Überblick über Ihre Fortschritte behalten. Meine Empfehlung an Sie: eignen Sie sich diese gute Gewohnheit während dieses Kurses an und nutzen Sie aktiv GitHub. \n",
        "\n",
        "Es gibt mehrere Möglichkeiten der Versionskontrolle, die alle einige Vor- und Nachteile haben. Hier listen wir die drei am häufigsten verwendeten auf:\n",
        "\n",
        "- [GitHub Desktop](https://desktop.github.com/) (und [friends](https://www.slant.co/options/13488/alternatives/~github-desktop-alternatives)\\):\n",
        "  - Anwendung zum bequemen Verfolgen von Änderungen, Commit, Pull und Push auf GitHub\n",
        "  - Pro: einfach zu benutzen, flexibel für alle Arten von Dateien, hilft Konflikte zu vermeiden\n",
        "  - Contra: zusätzliche Anwendung, sollte zur Gewohnheit werden und nicht vergessen werden\n",
        "\n",
        "- Shell/Terminal\n",
        "  - Verwendung von Shell oder Terminal für die Versionskontrolle\n",
        "  - Pro: flexibel für alle Arten von Dateien, kann buchstäblich alles damit machen\n",
        "  - Nachteil: schwerer zu erlernen, kann Fehler machen, die schwer zu korrigieren sind\n",
        "  \n",
        "Es spielt keine Rolle, was Sie verwenden, Hauptsache, Sie nutzen die Versionskontrolle. Sie macht Ihr Leben viel einfacher, besonders bei komplizierten Projekten, bei denen Sie verschiedene Richtungen testen und ausprobieren müssen. [GitHub](https://github.com/) ist eine gute Plattform für die Zusammenarbeit, aber es gibt auch noch andere.\n",
        "\n",
        "In diesem Kurs gebe ich keinen Überblick darüber, wie Versionskontrolle funktioniert. Nützliches Material finden Sie unter:\n",
        "  - Technische Grundlagen der Informatik Buch: https://info201.github.io/git-basics.html\n",
        "  - Software Carpentry Kurs (sehr zu empfehlen): https://swcarpentry.github.io/git-novice/\n",
        "  - Github Lernlabor: https://lab.github.com/\n",
        "\n",
        "Ein Beispiel für diesen Kurs: https://github.com/ArminVarmaz/DE_DA.git "
      ]
    },
    {
      "cell_type": "markdown",
      "source": [
        "# Einführung in Python\n",
        "\n",
        "## \"Taschenrechner\"\n",
        "\n",
        "In der einfachsten Variante können wir Python und Colab als Taschenrechner nutzen."
      ],
      "metadata": {
        "id": "kor-LKUt85wt"
      },
      "id": "kor-LKUt85wt"
    },
    {
      "cell_type": "code",
      "source": [
        "1 + 3\n",
        "\n"
      ],
      "metadata": {
        "colab": {
          "base_uri": "https://localhost:8080/"
        },
        "id": "ADpkdonz9E7-",
        "outputId": "a460a53f-759b-4206-e82b-71cb702cb5cf"
      },
      "id": "ADpkdonz9E7-",
      "execution_count": 5,
      "outputs": [
        {
          "output_type": "execute_result",
          "data": {
            "text/plain": [
              "4"
            ]
          },
          "metadata": {},
          "execution_count": 5
        }
      ]
    },
    {
      "cell_type": "markdown",
      "source": [
        "## Kommentare schreiben\n",
        "\n",
        "Es ist gute Praxis, den Code mit ausreichend viel Kommentaren zu versehen, damit wir selbst nach einigen Monaten und vor allem Dritte wissen, welchen Zweck der Codeabschnitt hat. \n",
        "\n",
        "Kommentierung werden in Python mit dem Zweichen # eingeführt."
      ],
      "metadata": {
        "id": "aBfkFQtX_ec_"
      },
      "id": "aBfkFQtX_ec_"
    },
    {
      "cell_type": "code",
      "source": [
        "# Erster Versuch\n",
        "a = 1\n",
        "b = 22\n",
        "# Führe eine Berechnung mit den Variablen a und b durch und weise das Ergebnis der Variable c zu\n",
        "c = a + b\n",
        "# Gib das Ergebnis von c auf der Konsole aus\n",
        "print(c)\n",
        "# Erzeuge Variable d und weise ihr Text (String) zu\n",
        "d = \"Das ist der Wert von Variable c: \"\n",
        "# Gib den Wert von d aus\n",
        "print(d)\n",
        "# Verknüpfung von Text und Zahl. Dazu wird die Zahl in das Datentyp String umgewandelt \n",
        "e = d + str(c);\n",
        "# Gib den Wert von e aus\n",
        "print(e)"
      ],
      "metadata": {
        "colab": {
          "base_uri": "https://localhost:8080/"
        },
        "id": "UmzUms_e_3fv",
        "outputId": "c5c7e2f0-1c71-4628-f8d1-f2fbf727acc6"
      },
      "id": "UmzUms_e_3fv",
      "execution_count": 21,
      "outputs": [
        {
          "output_type": "execute_result",
          "data": {
            "text/plain": [
              "434.7826086956522"
            ]
          },
          "metadata": {},
          "execution_count": 21
        }
      ]
    },
    {
      "cell_type": "markdown",
      "source": [
        "## Variablen erzeugen\n",
        "\n",
        "- Variablennamen sollen aus Buchstaben, Unterstrich _ und Ziffern bestehen, keine Leerzeichen nutzen! \n",
        "-Variablenname muss mit einem Buchstaben oder Unterstrich _ starten. \n",
        "-Python ist case-sensitive, d.h., Klein- und Großschreibung bei der Bezeichnung von Variablen beachten. Variable a ist i.d.R. etwas anders als Variable A.\n",
        "-Wenn wir einen Variablennamen zweimal nutzen, wird der Inhalt überschrieben/ersetzt durch den neuen Wert."
      ],
      "metadata": {
        "id": "pGeWwpoI8W2U"
      },
      "id": "pGeWwpoI8W2U"
    },
    {
      "cell_type": "code",
      "source": [
        "# Erzeuge Variable a und b und belege sie mit Zahlen.\n",
        "a = 1\n",
        "b = 22\n",
        "# Führe eine Berechnung mit den Variablen a und b durch und weise das Ergebnis der Variable c zu\n",
        "c = a + b\n",
        "# Gib das Ergebnis von c auf der Konsole aus\n",
        "print(c)\n",
        "# Wir haette auch dies machen können\n",
        "print(a+b)\n",
        "# Erzeuge Variable d und weise ihr Text (String) zu\n",
        "d = \"Das ist der Wert von Variable c: \"\n",
        "# Gib den Wert von d aus\n",
        "print(d)\n",
        "\n",
        "# mehhreren Variablen mehrere Werte zuordnen\n",
        "x, y, z = \"Orange\", \"Bananen\", \"Kirsche\"\n",
        "print(x)\n",
        "print(y)\n",
        "print(z)\n",
        "\n",
        "# mehhreren Variablen einen Werte zuordnen\n",
        "x = y = z = \"Blaubeere\"\n",
        "print(x)\n",
        "print(y)\n",
        "print(z)\n",
        "\n",
        "obst = [\"Apfel\", \"Bananen\", \"Kirsche\"]\n",
        "x, y, z = obst\n",
        "print(x)\n",
        "print(y)\n",
        "print(z)"
      ],
      "metadata": {
        "colab": {
          "base_uri": "https://localhost:8080/"
        },
        "id": "NjnHNm-q8srh",
        "outputId": "6693de5a-254b-437b-b5b9-17c3989dbe0f"
      },
      "id": "NjnHNm-q8srh",
      "execution_count": 31,
      "outputs": [
        {
          "output_type": "stream",
          "name": "stdout",
          "text": [
            "23\n",
            "23\n",
            "Das ist der Wert von Variable c: \n",
            "Orange\n",
            "Bananen\n",
            "Kirsche\n",
            "Blaubeere\n",
            "Blaubeere\n",
            "Blaubeere\n",
            "Apfel\n",
            "Bananen\n",
            "Kirsche\n"
          ]
        }
      ]
    },
    {
      "cell_type": "markdown",
      "source": [
        "Variablen können wie bisher außerhalb von Funktionen in einem Skript definiert werden. In diesem Fall bezeichnen wir diese Variablen als global\n",
        "\n",
        "Variablen können auch in einer Funktion definiert werden. Dann wird Ihnen nur in der Funktion der Wert zugewiesen und nur in der Funktion können wir auf diesen Wert zugreifen. Außerhalb der Funktion können wir den Wert nicht nutzen. Deswegen werden diese Variablen als lokale Variablen bezeichnet.\n",
        "\n",
        "\n"
      ],
      "metadata": {
        "id": "AcFphKuXGxmH"
      },
      "id": "AcFphKuXGxmH"
    },
    {
      "cell_type": "code",
      "source": [
        "x = \"toll\"\n",
        "\n",
        "# Unsere erste Funktion! Aber dazu später mehr\n",
        "def myfunc():\n",
        "  x = \"fantastisch\"\n",
        "  print(\"Python is \" + x)\n",
        "\n",
        "myfunc() # hier wird auf die lokale Variable zugegriffen\n",
        "\n",
        "print(\"Python is \" + x) # hier wird auf die globale Variable zugegriffen"
      ],
      "metadata": {
        "colab": {
          "base_uri": "https://localhost:8080/"
        },
        "id": "XM8qmx5qGrox",
        "outputId": "a32efe2b-c2c0-425a-86db-cc7b954777a8"
      },
      "id": "XM8qmx5qGrox",
      "execution_count": 33,
      "outputs": [
        {
          "output_type": "stream",
          "name": "stdout",
          "text": [
            "Python is fantastisch\n",
            "Python is toll\n"
          ]
        }
      ]
    },
    {
      "cell_type": "markdown",
      "source": [
        "Wenn wir unbedingt und mit sehr sehr gutem Grund global auf den Wert einer lokalen Variable zugreifen wollten, können wir innerhalb der Funktion  auf d"
      ],
      "metadata": {
        "id": "WnPOF2C3IAPp"
      },
      "id": "WnPOF2C3IAPp"
    },
    {
      "cell_type": "markdown",
      "source": [
        "## Datentypen\n",
        "\n",
        "Typischerweise wird einer Variable ein Wert vom bestimmten Datentyp zugewiesen. Im obigen Beispiel haben wir zwei Datentypen kennengerlent: Integer und String. \n",
        "\n",
        "Mit dem Befehl ```type()``` können wir den Datentyp ermitteln und dann mittels ```print()``` ausgeben lassen. "
      ],
      "metadata": {
        "id": "FvD2Y0t6ECW9"
      },
      "id": "FvD2Y0t6ECW9"
    },
    {
      "cell_type": "code",
      "source": [
        "# Erzeuge Variable a und b und belege sie mit Zahlen.\n",
        "a = 1\n",
        "b = 22\n",
        "# Führe eine Berechnung mit den Variablen a und b durch und weise das Ergebnis der Variable c zu\n",
        "c = a + b\n",
        "print(type(c))\n",
        "# Erzeuge Variable d und weise ihr Text (String) zu\n",
        "d = \"Das ist der Wert von Variable c: \"\n",
        "print(type(d))\n",
        "# Verknüpfung von Text und Zahl. Dazu wird die Zahl in das Datentyp String umgewandelt \n",
        "e = d + str(c);\n",
        "# Gib den Wert von e aus\n",
        "print(e)\n",
        "print(type(e))"
      ],
      "metadata": {
        "colab": {
          "base_uri": "https://localhost:8080/"
        },
        "id": "GFB3GFTrEiil",
        "outputId": "93caa07d-2736-4184-f1ae-400fe6e6ef3e"
      },
      "id": "GFB3GFTrEiil",
      "execution_count": 24,
      "outputs": [
        {
          "output_type": "stream",
          "name": "stdout",
          "text": [
            "<class 'int'>\n",
            "<class 'str'>\n",
            "Das ist der Wert von Variable c: 23\n",
            "<class 'str'>\n"
          ]
        }
      ]
    },
    {
      "cell_type": "markdown",
      "source": [
        "Neben "
      ],
      "metadata": {
        "id": "dbTBT2iKF0H8"
      },
      "id": "dbTBT2iKF0H8"
    },
    {
      "cell_type": "code",
      "source": [
        "x = \"Hello World\"\t# str\t\n",
        "print(x)\n",
        "x = 20\t# int\t\n",
        "print(x)\n",
        "x = -20.5\t# float\t\n",
        "print(x)\n",
        "x = 1j\t# complex\t\n",
        "print(x)\n",
        "x = [\"apple\", \"banana\", \"cherry\"]\t# list\t\n",
        "print(x)\n",
        "x = (\"apple\", \"banana\", \"cherry\")\t# tuple\t\n",
        "print(x)\n",
        "x = range(6)\t# range\t\n",
        "print(x)\n",
        "x = {\"name\" : \"John\", \"age\" : 36}\t# dict\t\n",
        "print(x)\n",
        "x = {\"apple\", \"banana\", \"cherry\"}\t# set\t\n",
        "print(x)\n",
        "x = frozenset({\"apple\", \"banana\", \"cherry\"})\t# frozenset\t\n",
        "print(x)\n",
        "x = True\t# bool\t\n",
        "print(x)\n",
        "x = b\"Hello\"\t# bytes\t\n",
        "print(x)\n",
        "x = bytearray(5)\t# bytearray\t\n",
        "print(x)\n",
        "x = memoryview(bytes(5))\t# memoryview\t\n",
        "print(x)\n",
        "x = None\t#  NoneType\t\n",
        "\n"
      ],
      "metadata": {
        "colab": {
          "base_uri": "https://localhost:8080/"
        },
        "id": "_wRMeFBZIhiJ",
        "outputId": "3bc2fded-fd88-445d-a7ba-827a65e01eaf"
      },
      "id": "_wRMeFBZIhiJ",
      "execution_count": 35,
      "outputs": [
        {
          "output_type": "stream",
          "name": "stdout",
          "text": [
            "Hello World\n",
            "20\n",
            "-20.5\n",
            "1j\n",
            "['apple', 'banana', 'cherry']\n",
            "('apple', 'banana', 'cherry')\n",
            "range(0, 6)\n",
            "{'name': 'John', 'age': 36}\n",
            "{'cherry', 'apple', 'banana'}\n",
            "frozenset({'cherry', 'apple', 'banana'})\n",
            "True\n",
            "b'Hello'\n",
            "bytearray(b'\\x00\\x00\\x00\\x00\\x00')\n",
            "<memory at 0x7f95b09f14c0>\n"
          ]
        }
      ]
    },
    {
      "cell_type": "markdown",
      "source": [
        "Zufallszahlen"
      ],
      "metadata": {
        "id": "HlW6p472JsE3"
      },
      "id": "HlW6p472JsE3"
    },
    {
      "cell_type": "code",
      "source": [
        "# Bibliothek laden\n",
        "import random\n",
        "# Zufallszahlen\n",
        "print(random.randrange(1, 10))"
      ],
      "metadata": {
        "colab": {
          "base_uri": "https://localhost:8080/"
        },
        "id": "Wmivh3TmJlWB",
        "outputId": "fea7e373-a8e1-47d4-d58f-fcd9d8b3d264"
      },
      "id": "Wmivh3TmJlWB",
      "execution_count": 38,
      "outputs": [
        {
          "output_type": "stream",
          "name": "stdout",
          "text": [
            "8\n"
          ]
        }
      ]
    },
    {
      "cell_type": "markdown",
      "id": "bce2a334",
      "metadata": {
        "id": "bce2a334"
      },
      "source": [
        "\n",
        "## PyCharm: Eine IDE für Python-Skripte\n",
        "\n",
        "Während ich im Kurs Colab-Notebooks verwende, werden Python-Codes in produktiven Umgebungen in Firmen, öffentlicher Verwaltung und akademischen Institutionen aus Skriptdateien mit der Endung `.py` ausgeführt. Colab bietet einen einfachen Texteditor zum Schreiben dieser Skriptdateien, aber die meisten Entwickler:innen verwenden eine spezielle Softwareanwendung, eine sogenannte \"integrierte Entwicklungsumgebung\" (IDE), um diese Skripte zu schreiben. \n",
        "\n",
        "Von den vielen möglichen alternativen IDEs nutzen wir PyCharm, ein kostenloses Tool für diese Entwicklungen. Es handelt sich um einen einfachen Code-Editor mit einer Vielzahl möglicher Erweiterungen. Es gibt eine Vielzahl anderer freier IDEs (u.a. von Microsoft), die für Ihre Zwecke besser geeignet ist. Es spielt keine Rolle, welche IDE genutzt wird, da die Skriptdateien mit der Endung `.py` von allen IDEs ausgeführt werden.  \n",
        "\n",
        "PyCharm kann von [hier](https://www.jetbrains.com/products/compare/?product=pycharm&product=pycharm-ce) heruntergeladen werden und Tutorials können über die [Dokumentation](https://www.jetbrains.com/help/pycharm/quick-start-guide.html) abgerufen werden.\n",
        "\n",
        "Wenn Sie Linux oder Mac nutzen, dann ist Python bereits installiert, aber Sie haben noch keine IDE.\n",
        "\n",
        "\n",
        "\n",
        "\n"
      ]
    },
    {
      "cell_type": "markdown",
      "id": "032c4444",
      "metadata": {
        "id": "032c4444"
      },
      "source": []
    }
  ],
  "metadata": {
    "kernelspec": {
      "display_name": "Python 3.10.0 64-bit",
      "language": "python",
      "name": "python3"
    },
    "language_info": {
      "codemirror_mode": {
        "name": "ipython",
        "version": 3
      },
      "file_extension": ".py",
      "mimetype": "text/x-python",
      "name": "python",
      "nbconvert_exporter": "python",
      "pygments_lexer": "ipython3",
      "version": "3.10.0"
    },
    "vscode": {
      "interpreter": {
        "hash": "98590ff4fe04c8543246b2a01debd3de3c5ca9b666f43f1fa87d5110c692004c"
      }
    },
    "colab": {
      "provenance": [],
      "include_colab_link": true
    }
  },
  "nbformat": 4,
  "nbformat_minor": 5
}