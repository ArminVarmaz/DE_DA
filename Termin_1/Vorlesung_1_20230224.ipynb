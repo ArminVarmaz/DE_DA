{
  "cells": [
    {
      "cell_type": "markdown",
      "metadata": {
        "id": "view-in-github",
        "colab_type": "text"
      },
      "source": [
        "<a href=\"https://colab.research.google.com/github/ArminVarmaz/DE_DA/blob/main/Termin_1/Vorlesung_1_20230224.ipynb\" target=\"_parent\"><img src=\"https://colab.research.google.com/assets/colab-badge.svg\" alt=\"Open In Colab\"/></a>"
      ]
    },
    {
      "cell_type": "markdown",
      "id": "b53567b6",
      "metadata": {
        "id": "b53567b6"
      },
      "source": [
        "### 1. Vorlesung\n",
        "\n",
        "**Ziele des 1. Termins (Einführung)**\n",
        "\n",
        "- Einrichtung der Software-Umgebung  \n",
        "- Basisterminologie  \n",
        "- Nutzung von Colab für Lehrbeispiele  \n",
        "- Nutzung von PyCharm\n",
        "- Skripte ausführen in PyCharm\n",
        "- Nutzung von ChatGPT\n",
        "- Einfache Datenanalyse"
      ]
    },
    {
      "cell_type": "markdown",
      "id": "70a0337e",
      "metadata": {
        "id": "70a0337e"
      },
      "source": [
        "## Google Colab\n",
        "Diese Datei folgt nicht dem Standardmuster mit Python-Code in einer Textdatei. Stattdessen wird ein Colab-Notizbuch als Datei gespeichert. Der Vorteil ist, dass wir formatierten Text, Python-Code und Code-Ausgabe mischen können. Zur Ausführung ist allerdings der Jupyter-Notizbuch-Server erforderlich, es handelt sich also nicht um ein eigenständiges Python-Programm. Ansonsten gibt es keinen Unterschied zwischen dem Python-Code, der in einer Programmdatei oder einem Jupyter-Notizbuch enthalten ist.\n",
        "\n",
        "Eine kurze Einführung in [Colab](https://colab.research.google.com) wird von Google mit vielen Datenanalyse-Beispielen aufgezeigt."
      ]
    },
    {
      "cell_type": "markdown",
      "id": "c5616878",
      "metadata": {
        "id": "c5616878"
      },
      "source": [
        "\n",
        "## Colab-Benutzeroberfläche\n",
        "\n"
      ]
    },
    {
      "cell_type": "markdown",
      "id": "a2b8f8a3",
      "metadata": {
        "id": "a2b8f8a3"
      },
      "source": [
        "Zwei Begriffe, die Ihnen wahrscheinlich neu sind, sollten Sie unbedingt kennenlernen: Zellen und Kernel.\n",
        "- Ein Kernel ist eine \"Rechenmaschine\", die den in einem Notizbuchdokument enthaltenen Code ausführt.\n",
        "- Eine Zelle ist ein Container für Text, der im Notizbuch angezeigt wird, oder für Code, der vom Kernel des Notizbuchs ausgeführt wird."
      ]
    },
    {
      "cell_type": "markdown",
      "id": "7008f1be",
      "metadata": {
        "id": "7008f1be"
      },
      "source": [
        "### Zellen\n",
        "\n",
        "Eine Codezelle enthält Code, der im Kernel ausgeführt werden soll. Wenn der Code ausgeführt wird, zeigt das Notizbuch die Ausgabe unterhalb der Codezelle an, die ihn erzeugt hat.\n",
        "\n",
        "Eine Markdown-Zelle enthält Text, der mit Markdown formatiert wurde, und zeigt seine Ausgabe an Ort und Stelle an, wenn die Markdown-Zelle ausgeführt wird.\n",
        "\n",
        "Die erste Zelle in einem neuen Notizbuch ist immer eine Codezelle.\n",
        "\n",
        "Probieren wir es mit einem klassischen Hallo-Welt-Beispiel aus: Geben Sie `print(\"Hello World!\")` in die Zelle ein und klicken Sie auf die Schaltfläche Notebook Run Button in der Symbolleiste oben oder drücken Sie Strg + Enter.\n",
        "\n",
        "Das Ergebnis sollte wie folgt aussehen:"
      ]
    },
    {
      "cell_type": "code",
      "execution_count": null,
      "id": "ceb0aa58",
      "metadata": {
        "colab": {
          "base_uri": "https://localhost:8080/"
        },
        "id": "ceb0aa58",
        "outputId": "d471bd26-192e-4eb8-c78c-d4d84416a93e"
      },
      "outputs": [
        {
          "output_type": "stream",
          "name": "stdout",
          "text": [
            "Hallo Welt, ich bin da!\n"
          ]
        }
      ],
      "source": [
        "print(\"Hallo Welt, ich bin da!\")"
      ]
    },
    {
      "cell_type": "markdown",
      "id": "be2ac251",
      "metadata": {
        "id": "be2ac251"
      },
      "source": [
        "### Kernel\n",
        "Hinter jedem Notebook verbirgt sich ein sog. Kernel. Wenn Sie eine Codezelle ausführen, wird dieser Code im Kernel ausgeführt. Alle Ausgaben werden an die Zelle zurückgegeben, um angezeigt zu werden. Der Zustand des Kerns bleibt über die Zeit und zwischen den Zellen bestehen - er bezieht sich auf das Dokument als Ganzes und nicht auf einzelne Zellen.\n",
        "\n",
        "\n"
      ]
    },
    {
      "cell_type": "markdown",
      "id": "5b1f1795",
      "metadata": {
        "id": "5b1f1795"
      },
      "source": [
        "## Versionskontrolle: Git und GitHub\n",
        "\n",
        "Die Versionskontrolle ist ein wesentlicher Bestandteil der Codierung und der Teamarbeit. Sie stellt sicher, dass Sie beim Schreiben eines Codes für eine Analyse oder bei der Entwicklung eines Codes/Pakets/Materials den Überblick über Ihre Fortschritte behalten. Meine Empfehlung an Sie: eignen Sie sich diese gute Gewohnheit während dieses Kurses an und nutzen Sie aktiv GitHub. \n",
        "\n",
        "Es gibt mehrere Möglichkeiten der Versionskontrolle, die alle einige Vor- und Nachteile haben. Hier listen wir die drei am häufigsten verwendeten auf:\n",
        "\n",
        "- [GitHub Desktop](https://desktop.github.com/) (und [friends](https://www.slant.co/options/13488/alternatives/~github-desktop-alternatives)):\n",
        "  - Anwendung zum bequemen Verfolgen von Änderungen, Commit, Pull und Push auf GitHub\n",
        "  - Pro: einfach zu benutzen, flexibel für alle Arten von Dateien, hilft Konflikte zu vermeiden\n",
        "  - Contra: zusätzliche Anwendung, sollte zur Gewohnheit werden und nicht vergessen werden\n",
        "\n",
        "- Shell/Terminal\n",
        "  - Verwendung von Shell oder Terminal für die Versionskontrolle\n",
        "  - Pro: flexibel für alle Arten von Dateien, kann buchstäblich alles damit machen\n",
        "  - Nachteil: schwerer zu erlernen, kann Fehler machen, die schwer zu korrigieren sind\n",
        "  \n",
        "Es spielt keine Rolle, was Sie verwenden, Hauptsache, Sie nutzen die Versionskontrolle. Sie macht Ihr Leben viel einfacher, besonders bei komplizierten Projekten, bei denen Sie verschiedene Richtungen testen und ausprobieren müssen. [GitHub](https://github.com/) ist eine gute Plattform für die Zusammenarbeit, aber es gibt auch noch andere.\n",
        "\n",
        "In diesem Kurs gebe ich keinen Überblick darüber, wie Versionskontrolle funktioniert. Nützliches Material finden Sie unter:\n",
        "  - Technische Grundlagen der Informatik Buch: https://info201.github.io/git-basics.html\n",
        "  - Software Carpentry Kurs (sehr zu empfehlen): https://swcarpentry.github.io/git-novice/\n",
        "  - Github Lernlabor: https://lab.github.com/\n",
        "\n",
        "Ein Beispiel für diesen Kurs: https://github.com/ArminVarmaz/DE_DA.git "
      ]
    },
    {
      "cell_type": "markdown",
      "id": "bce2a334",
      "metadata": {
        "id": "bce2a334"
      },
      "source": [
        "\n",
        "## PyCharm: Eine IDE für Python-Skripte\n",
        "\n",
        "Während ich im Kurs Colab-Notebooks verwende, werden Python-Codes in produktiven Umgebungen in Firmen, öffentlicher Verwaltung und akademischen Institutionen aus Skriptdateien mit der Endung `.py` ausgeführt. Colab bietet einen einfachen Texteditor zum Schreiben dieser Skriptdateien, aber die meisten Entwickler:innen verwenden eine spezielle Softwareanwendung, eine sogenannte \"integrierte Entwicklungsumgebung\" (IDE), um diese Skripte zu schreiben. \n",
        "\n",
        "Von den vielen möglichen alternativen IDEs nutzen wir PyCharm, ein kostenloses Tool für diese Entwicklungen. Es handelt sich um einen einfachen Code-Editor mit einer Vielzahl möglicher Erweiterungen. Es gibt eine Vielzahl anderer freier IDEs (u.a. von Microsoft), die für Ihre Zwecke besser geeignet ist. Es spielt keine Rolle, welche IDE genutzt wird, da die Skriptdateien mit der Endung `.py` von allen IDEs ausgeführt werden.  \n",
        "\n",
        "PyCharm kann von [hier](https://www.jetbrains.com/products/compare/?product=pycharm&product=pycharm-ce) heruntergeladen werden und Tutorials können über die [Dokumentation](https://www.jetbrains.com/help/pycharm/quick-start-guide.html) abgerufen werden.\n",
        "\n",
        "Wenn Sie Linux oder Mac nutzen, dann ist Python bereits installiert, aber Sie haben noch keine IDE.\n",
        "\n",
        "\n",
        "\n",
        "\n"
      ]
    },
    {
      "cell_type": "markdown",
      "id": "032c4444",
      "metadata": {
        "id": "032c4444"
      },
      "source": []
    }
  ],
  "metadata": {
    "kernelspec": {
      "display_name": "Python 3.10.0 64-bit",
      "language": "python",
      "name": "python3"
    },
    "language_info": {
      "codemirror_mode": {
        "name": "ipython",
        "version": 3
      },
      "file_extension": ".py",
      "mimetype": "text/x-python",
      "name": "python",
      "nbconvert_exporter": "python",
      "pygments_lexer": "ipython3",
      "version": "3.10.0"
    },
    "vscode": {
      "interpreter": {
        "hash": "98590ff4fe04c8543246b2a01debd3de3c5ca9b666f43f1fa87d5110c692004c"
      }
    },
    "colab": {
      "provenance": [],
      "include_colab_link": true
    }
  },
  "nbformat": 4,
  "nbformat_minor": 5
}